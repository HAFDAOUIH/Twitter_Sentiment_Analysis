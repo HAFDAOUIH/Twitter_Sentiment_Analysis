{
 "cells": [
  {
   "cell_type": "code",
   "execution_count": 1,
   "id": "1a641764-e44b-4249-b04c-86ad053051a2",
   "metadata": {},
   "outputs": [],
   "source": [
    "import findspark\n",
    "findspark.init()\n",
    "import pyspark\n",
    "from pyspark.sql import SparkSession\n",
    "from pyspark.sql.types import StructType, StructField, IntegerType, StringType, DoubleType, DateType\n",
    "from pyspark.ml import Pipeline\n",
    "from pyspark.ml.feature import HashingTF, IDF, Tokenizer, StopWordsRemover,StringIndexer\n",
    "from pyspark.ml.evaluation import MulticlassClassificationEvaluator\n",
    "from pyspark.ml.tuning import ParamGridBuilder, CrossValidator\n",
    "from pyspark.ml.classification import RandomForestClassifier"
   ]
  },
  {
   "cell_type": "code",
   "execution_count": 2,
   "id": "bf2ac81f-03ea-40c7-91c0-624af1ba63f4",
   "metadata": {},
   "outputs": [
    {
     "name": "stderr",
     "output_type": "stream",
     "text": [
      "24/05/01 16:00:08 WARN Utils: Your hostname, sasamg-HP-Laptop-15s-eq2xxx resolves to a loopback address: 127.0.1.1; using 192.168.100.236 instead (on interface wlo1)\n",
      "24/05/01 16:00:08 WARN Utils: Set SPARK_LOCAL_IP if you need to bind to another address\n",
      "Setting default log level to \"WARN\".\n",
      "To adjust logging level use sc.setLogLevel(newLevel). For SparkR, use setLogLevel(newLevel).\n",
      "24/05/01 16:00:08 WARN NativeCodeLoader: Unable to load native-hadoop library for your platform... using builtin-java classes where applicable\n"
     ]
    }
   ],
   "source": [
    "spark= SparkSession.builder.config(\"spark.storage.memoryFraction\", \"0.6\").appName('Twitter_rf').getOrCreate()\n",
    "training_path = 'twitter_training.csv'\n",
    "schema = StructType([\n",
    "    StructField(\"id\", IntegerType(), True),\n",
    "    StructField(\"game\", StringType(), True),\n",
    "    StructField(\"sentiment\", StringType(), True),\n",
    "    StructField(\"tweet\", StringType(), True)\n",
    "])"
   ]
  },
  {
   "cell_type": "code",
   "execution_count": 3,
   "id": "4e7ae371-c780-44a8-9eba-80326d5ed758",
   "metadata": {},
   "outputs": [],
   "source": [
    "dataset = spark.read.csv(training_path, inferSchema=True, schema = schema)\n",
    "dataset = dataset.dropna(subset=[\"tweet\"])"
   ]
  },
  {
   "cell_type": "code",
   "execution_count": 4,
   "id": "58ad34d1-86e1-4b16-8851-950cb28b2724",
   "metadata": {},
   "outputs": [],
   "source": [
    "train_set, test_set = dataset.randomSplit([0.8, 0.2], seed=42)"
   ]
  },
  {
   "cell_type": "code",
   "execution_count": 5,
   "id": "43c7cc66-45f7-4ece-8dce-8ebc9c02bf48",
   "metadata": {},
   "outputs": [],
   "source": [
    "tokenizer = Tokenizer(inputCol=\"tweet\", outputCol=\"words\")\n",
    "hashingTF = HashingTF(inputCol=\"words\", outputCol=\"TF\")\n",
    "idf = IDF(inputCol=\"TF\", outputCol=\"features\")\n",
    "label = StringIndexer(inputCol=\"sentiment\", outputCol=\"label\", handleInvalid=\"skip\")"
   ]
  },
  {
   "cell_type": "code",
   "execution_count": 20,
   "id": "0580571e-90da-40eb-95ca-4dc80cbece67",
   "metadata": {},
   "outputs": [
    {
     "name": "stderr",
     "output_type": "stream",
     "text": [
      "24/05/01 16:39:25 WARN DAGScheduler: Broadcasting large task binary with size 4.1 MiB\n",
      "24/05/01 16:39:25 WARN DAGScheduler: Broadcasting large task binary with size 4.1 MiB\n",
      "24/05/01 16:39:27 WARN DAGScheduler: Broadcasting large task binary with size 6.7 MiB\n",
      "24/05/01 16:40:14 WARN DAGScheduler: Broadcasting large task binary with size 1033.7 KiB\n",
      "24/05/01 16:40:14 WARN DAGScheduler: Broadcasting large task binary with size 7.9 MiB\n",
      "24/05/01 16:40:15 WARN MemoryStore: Not enough space to cache rdd_209_2 in memory! (computed 113.1 MiB so far)\n",
      "24/05/01 16:40:15 WARN BlockManager: Persisting block rdd_209_2 to disk instead.\n",
      "24/05/01 16:40:15 WARN MemoryStore: Not enough space to cache rdd_209_1 in memory! (computed 113.1 MiB so far)\n",
      "24/05/01 16:40:15 WARN BlockManager: Persisting block rdd_209_1 to disk instead.\n",
      "24/05/01 16:40:15 WARN MemoryStore: Not enough space to cache rdd_209_0 in memory! (computed 113.1 MiB so far)\n",
      "24/05/01 16:40:15 WARN BlockManager: Persisting block rdd_209_0 to disk instead.\n",
      "24/05/01 16:41:10 WARN MemoryStore: Not enough space to cache rdd_209_2 in memory! (computed 272.9 MiB so far)\n",
      "24/05/01 16:42:04 WARN MemoryStore: Not enough space to cache rdd_209_1 in memory! (computed 272.9 MiB so far)\n",
      "24/05/01 16:42:11 WARN MemoryStore: Not enough space to cache rdd_209_0 in memory! (computed 272.9 MiB so far)\n",
      "24/05/01 16:42:51 WARN DAGScheduler: Broadcasting large task binary with size 8.1 MiB\n",
      "24/05/01 16:42:51 WARN MemoryStore: Not enough space to cache rdd_209_1 in memory! (computed 113.1 MiB so far)\n",
      "24/05/01 16:42:51 WARN MemoryStore: Not enough space to cache rdd_209_0 in memory! (computed 113.1 MiB so far)\n",
      "24/05/01 16:42:51 WARN MemoryStore: Not enough space to cache rdd_209_2 in memory! (computed 113.1 MiB so far)\n",
      "24/05/01 16:43:50 WARN DAGScheduler: Broadcasting large task binary with size 8.3 MiB\n",
      "24/05/01 16:43:50 WARN MemoryStore: Not enough space to cache rdd_209_1 in memory! (computed 113.1 MiB so far)\n",
      "24/05/01 16:43:50 WARN MemoryStore: Not enough space to cache rdd_209_0 in memory! (computed 113.1 MiB so far)\n",
      "24/05/01 16:43:50 WARN MemoryStore: Not enough space to cache rdd_209_2 in memory! (computed 113.1 MiB so far)\n",
      "24/05/01 16:44:49 WARN DAGScheduler: Broadcasting large task binary with size 8.5 MiB\n",
      "24/05/01 16:44:49 WARN MemoryStore: Not enough space to cache rdd_209_2 in memory! (computed 113.1 MiB so far)\n",
      "24/05/01 16:44:49 WARN MemoryStore: Not enough space to cache rdd_209_0 in memory! (computed 113.1 MiB so far)\n",
      "24/05/01 16:44:49 WARN MemoryStore: Not enough space to cache rdd_209_1 in memory! (computed 113.1 MiB so far)\n",
      "24/05/01 16:45:48 WARN DAGScheduler: Broadcasting large task binary with size 8.6 MiB\n",
      "24/05/01 16:45:48 WARN MemoryStore: Not enough space to cache rdd_209_2 in memory! (computed 113.1 MiB so far)\n",
      "24/05/01 16:45:48 WARN MemoryStore: Not enough space to cache rdd_209_0 in memory! (computed 113.1 MiB so far)\n",
      "24/05/01 16:45:48 WARN MemoryStore: Not enough space to cache rdd_209_1 in memory! (computed 113.1 MiB so far)\n",
      "24/05/01 16:46:49 WARN DAGScheduler: Broadcasting large task binary with size 8.9 MiB\n",
      "24/05/01 16:46:49 WARN MemoryStore: Not enough space to cache rdd_209_2 in memory! (computed 113.1 MiB so far)\n",
      "24/05/01 16:46:49 WARN MemoryStore: Not enough space to cache rdd_209_1 in memory! (computed 113.1 MiB so far)\n",
      "24/05/01 16:46:49 WARN MemoryStore: Not enough space to cache rdd_209_0 in memory! (computed 113.1 MiB so far)\n",
      "24/05/01 16:47:53 WARN DAGScheduler: Broadcasting large task binary with size 9.1 MiB\n",
      "24/05/01 16:47:53 WARN MemoryStore: Not enough space to cache rdd_209_1 in memory! (computed 113.1 MiB so far)\n",
      "24/05/01 16:47:53 WARN MemoryStore: Not enough space to cache rdd_209_0 in memory! (computed 113.1 MiB so far)\n",
      "24/05/01 16:47:53 WARN MemoryStore: Not enough space to cache rdd_209_2 in memory! (computed 113.1 MiB so far)\n",
      "24/05/01 16:48:58 WARN DAGScheduler: Broadcasting large task binary with size 9.3 MiB\n",
      "24/05/01 16:48:58 WARN MemoryStore: Not enough space to cache rdd_209_2 in memory! (computed 113.1 MiB so far)\n",
      "24/05/01 16:48:58 WARN MemoryStore: Not enough space to cache rdd_209_1 in memory! (computed 113.1 MiB so far)\n",
      "24/05/01 16:48:58 WARN MemoryStore: Not enough space to cache rdd_209_0 in memory! (computed 113.1 MiB so far)\n",
      "24/05/01 16:50:00 WARN DAGScheduler: Broadcasting large task binary with size 9.6 MiB\n",
      "24/05/01 16:50:00 WARN MemoryStore: Not enough space to cache rdd_209_0 in memory! (computed 113.1 MiB so far)\n",
      "24/05/01 16:50:00 WARN MemoryStore: Not enough space to cache rdd_209_1 in memory! (computed 113.1 MiB so far)\n",
      "24/05/01 16:50:00 WARN MemoryStore: Not enough space to cache rdd_209_2 in memory! (computed 113.1 MiB so far)\n",
      "24/05/01 16:51:03 WARN DAGScheduler: Broadcasting large task binary with size 9.8 MiB\n",
      "24/05/01 16:51:03 WARN MemoryStore: Not enough space to cache rdd_209_0 in memory! (computed 113.1 MiB so far)\n",
      "24/05/01 16:51:03 WARN MemoryStore: Not enough space to cache rdd_209_1 in memory! (computed 113.1 MiB so far)\n",
      "24/05/01 16:51:03 WARN MemoryStore: Not enough space to cache rdd_209_2 in memory! (computed 113.1 MiB so far)\n",
      "24/05/01 16:52:07 WARN DAGScheduler: Broadcasting large task binary with size 10.0 MiB\n",
      "24/05/01 16:52:07 WARN MemoryStore: Not enough space to cache rdd_209_1 in memory! (computed 113.1 MiB so far)\n",
      "24/05/01 16:52:07 WARN MemoryStore: Not enough space to cache rdd_209_2 in memory! (computed 113.1 MiB so far)\n",
      "24/05/01 16:52:07 WARN MemoryStore: Not enough space to cache rdd_209_0 in memory! (computed 113.1 MiB so far)\n",
      "24/05/01 16:53:10 WARN DAGScheduler: Broadcasting large task binary with size 10.3 MiB\n",
      "24/05/01 16:53:11 WARN MemoryStore: Not enough space to cache rdd_209_0 in memory! (computed 113.1 MiB so far)\n",
      "24/05/01 16:53:11 WARN MemoryStore: Not enough space to cache rdd_209_1 in memory! (computed 113.1 MiB so far)\n",
      "24/05/01 16:53:11 WARN MemoryStore: Not enough space to cache rdd_209_2 in memory! (computed 113.1 MiB so far)\n",
      "24/05/01 16:54:14 WARN DAGScheduler: Broadcasting large task binary with size 10.5 MiB\n",
      "24/05/01 16:54:15 WARN MemoryStore: Not enough space to cache rdd_209_0 in memory! (computed 113.1 MiB so far)\n",
      "24/05/01 16:54:15 WARN MemoryStore: Not enough space to cache rdd_209_1 in memory! (computed 113.1 MiB so far)\n",
      "24/05/01 16:54:15 WARN MemoryStore: Not enough space to cache rdd_209_2 in memory! (computed 113.1 MiB so far)\n",
      "24/05/01 16:55:18 WARN DAGScheduler: Broadcasting large task binary with size 10.7 MiB\n",
      "24/05/01 16:55:18 WARN MemoryStore: Not enough space to cache rdd_209_0 in memory! (computed 113.1 MiB so far)\n",
      "24/05/01 16:55:18 WARN MemoryStore: Not enough space to cache rdd_209_2 in memory! (computed 113.1 MiB so far)\n",
      "24/05/01 16:55:18 WARN MemoryStore: Not enough space to cache rdd_209_1 in memory! (computed 113.1 MiB so far)\n",
      "24/05/01 16:56:24 WARN DAGScheduler: Broadcasting large task binary with size 11.0 MiB\n",
      "24/05/01 16:56:25 WARN MemoryStore: Not enough space to cache rdd_209_0 in memory! (computed 113.1 MiB so far)\n",
      "24/05/01 16:56:25 WARN MemoryStore: Not enough space to cache rdd_209_1 in memory! (computed 113.1 MiB so far)\n",
      "24/05/01 16:56:25 WARN MemoryStore: Not enough space to cache rdd_209_2 in memory! (computed 113.1 MiB so far)\n",
      "                                                                                \r"
     ]
    }
   ],
   "source": [
    "rf = RandomForestClassifier(labelCol=\"label\", featuresCol=\"features\",maxDepth=15, numTrees=100)\n",
    "pipeline_rf = Pipeline(stages=[tokenizer, hashingTF, idf, label, rf])\n",
    "\n",
    "# Fit the model to the training data\n",
    "rf_model = pipeline_rf.fit(train_set)\n",
    "\n",
    "# Make predictions on the test data\n",
    "rf_predictions = rf_model.transform(test_set)"
   ]
  },
  {
   "cell_type": "code",
   "execution_count": 21,
   "id": "185865fa-2ed1-45e7-a44a-806b288466a6",
   "metadata": {},
   "outputs": [],
   "source": [
    "evaluator_accuracy = MulticlassClassificationEvaluator(labelCol=\"label\", predictionCol=\"prediction\", metricName=\"accuracy\")\n",
    "evaluator_f1 = MulticlassClassificationEvaluator(labelCol=\"label\", predictionCol=\"prediction\", metricName=\"f1\")\n",
    "evaluator_weighted_precision = MulticlassClassificationEvaluator(labelCol=\"label\", predictionCol=\"prediction\", metricName=\"weightedPrecision\")\n",
    "evaluator_weighted_recall = MulticlassClassificationEvaluator(labelCol=\"label\", predictionCol=\"prediction\", metricName=\"weightedRecall\")"
   ]
  },
  {
   "cell_type": "code",
   "execution_count": 22,
   "id": "3db2334f-55b9-40f9-b326-d32647e64a2a",
   "metadata": {},
   "outputs": [
    {
     "name": "stderr",
     "output_type": "stream",
     "text": [
      "24/05/01 16:57:30 WARN DAGScheduler: Broadcasting large task binary with size 5.3 MiB\n",
      "24/05/01 16:57:31 WARN DAGScheduler: Broadcasting large task binary with size 5.3 MiB\n",
      "24/05/01 16:57:32 WARN DAGScheduler: Broadcasting large task binary with size 5.3 MiB\n",
      "24/05/01 16:57:32 WARN DAGScheduler: Broadcasting large task binary with size 5.3 MiB\n",
      "                                                                                \r"
     ]
    }
   ],
   "source": [
    "accuracy_rf = evaluator_accuracy.evaluate(rf_predictions)\n",
    "f1_score_rf = evaluator_f1.evaluate(rf_predictions)\n",
    "weighted_precision_rf = evaluator_weighted_precision.evaluate(rf_predictions)\n",
    "weighted_recall_rf = evaluator_weighted_recall.evaluate(rf_predictions)"
   ]
  },
  {
   "cell_type": "code",
   "execution_count": 23,
   "id": "66131b70-3f04-467e-a561-aaa119066c91",
   "metadata": {},
   "outputs": [
    {
     "name": "stdout",
     "output_type": "stream",
     "text": [
      "\n",
      " ********************************************** \n",
      "\n",
      "Accuracy: 0.3947080541501436\n",
      "F1 Score: 0.3057317510172687\n",
      "Weighted Precision: 0.6702706290107006\n",
      "Weighted Recall: 0.39470805415014354\n",
      "\n",
      " ********************************************** \n",
      "\n"
     ]
    }
   ],
   "source": [
    "print(\"\\n ********************************************** \\n\")\n",
    "print(\"Accuracy:\", accuracy_rf)\n",
    "print(\"F1 Score:\", f1_score_rf)\n",
    "print(\"Weighted Precision:\", weighted_precision_rf)\n",
    "print(\"Weighted Recall:\", weighted_recall_rf)\n",
    "print(\"\\n ********************************************** \\n\")"
   ]
  },
  {
   "cell_type": "code",
   "execution_count": null,
   "id": "20f06795-bef6-4e15-ae46-d200c09a6075",
   "metadata": {},
   "outputs": [],
   "source": []
  }
 ],
 "metadata": {
  "kernelspec": {
   "display_name": "Python 3 (ipykernel)",
   "language": "python",
   "name": "python3"
  },
  "language_info": {
   "codemirror_mode": {
    "name": "ipython",
    "version": 3
   },
   "file_extension": ".py",
   "mimetype": "text/x-python",
   "name": "python",
   "nbconvert_exporter": "python",
   "pygments_lexer": "ipython3",
   "version": "3.10.12"
  }
 },
 "nbformat": 4,
 "nbformat_minor": 5
}
