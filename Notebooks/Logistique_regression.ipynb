{
 "cells": [
  {
   "cell_type": "markdown",
   "id": "a448b4b7-1ebf-414a-ac87-cc48782a07b7",
   "metadata": {},
   "source": [
    "we are working in a local development environment (not in a distributed Spark cluster) so we should imoprt findspark"
   ]
  },
  {
   "cell_type": "markdown",
   "id": "6249b07f-9e58-43e7-ad90-2a4322b94873",
   "metadata": {},
   "source": [
    "# Imports"
   ]
  },
  {
   "cell_type": "code",
   "execution_count": 1,
   "id": "b3f1b8a3-1f52-43df-8179-27e569f513a1",
   "metadata": {},
   "outputs": [],
   "source": [
    "import findspark\n",
    "findspark.init()\n",
    "import pyspark\n",
    "from pyspark.sql import SparkSession\n",
    "from pyspark.sql.types import StructType, StructField, IntegerType, StringType\n",
    "from pyspark.ml import Pipeline\n",
    "from pyspark.ml.feature import HashingTF, IDF, Tokenizer, StringIndexer, NGram, VectorAssembler, ChiSqSelector, CountVectorizer\n",
    "from pyspark.sql.functions import col, sum as spark_sum\n",
    "from pyspark.ml.classification import LogisticRegression\n",
    "from pyspark.ml.evaluation import MulticlassClassificationEvaluator\n",
    "from datetime import datetime\n",
    "import matplotlib.pyplot as plt\n",
    "import seaborn as sns\n",
    "from pyspark.mllib.evaluation import MulticlassMetrics"
   ]
  },
  {
   "cell_type": "markdown",
   "id": "b3a5b3ba-e4c7-41bf-bf76-7afb0de5a150",
   "metadata": {},
   "source": [
    "# Variables de contexte"
   ]
  },
  {
   "cell_type": "code",
   "execution_count": 2,
   "id": "0a567d9c-df72-4dfd-bf71-4ebc8d0205d1",
   "metadata": {},
   "outputs": [
    {
     "name": "stdout",
     "output_type": "stream",
     "text": [
      "24/05/13 22:22:09 WARN Utils: Your hostname, hafdaoui-Vostro-3400 resolves to a loopback address: 127.0.1.1; using 192.168.1.105 instead (on interface wlp0s20f3)\n",
      "24/05/13 22:22:09 WARN Utils: Set SPARK_LOCAL_IP if you need to bind to another address\n"
     ]
    },
    {
     "name": "stderr",
     "output_type": "stream",
     "text": [
      "Setting default log level to \"WARN\".\n",
      "To adjust logging level use sc.setLogLevel(newLevel). For SparkR, use setLogLevel(newLevel).\n"
     ]
    },
    {
     "name": "stdout",
     "output_type": "stream",
     "text": [
      "24/05/13 22:22:09 WARN NativeCodeLoader: Unable to load native-hadoop library for your platform... using builtin-java classes where applicable\n",
      "24/05/13 22:22:10 WARN Utils: Service 'SparkUI' could not bind on port 4040. Attempting port 4041.\n"
     ]
    }
   ],
   "source": [
    "spark= SparkSession.builder.config(\"spark.storage.memoryFraction\", \"0.6\").appName('Twitter').getOrCreate()"
   ]
  },
  {
   "cell_type": "code",
   "execution_count": 3,
   "id": "8af6f72a-09d7-4c50-b00f-38a136f4cf5a",
   "metadata": {},
   "outputs": [],
   "source": [
    "training_path = 'twitter_training.csv'"
   ]
  },
  {
   "cell_type": "markdown",
   "id": "41c8e07a-5d43-472a-85d5-8970fe724940",
   "metadata": {},
   "source": [
    "### we defined a StructType. This allows us when reading the CSV containing the data, to tell Spark to load the data according to the schema defined above."
   ]
  },
  {
   "cell_type": "code",
   "execution_count": 4,
   "id": "8e81e36d-14cd-491c-a093-17a19558760b",
   "metadata": {},
   "outputs": [],
   "source": [
    "schema = StructType([\n",
    "    StructField(\"id\", IntegerType(), True),\n",
    "    StructField(\"game\", StringType(), True),\n",
    "    StructField(\"sentiment\", StringType(), True),\n",
    "    StructField(\"tweet\", StringType(), True)\n",
    "])"
   ]
  },
  {
   "cell_type": "code",
   "execution_count": 5,
   "id": "19047210-1a9b-4c18-a346-b3fe3bd78f87",
   "metadata": {},
   "outputs": [
    {
     "name": "stdout",
     "output_type": "stream",
     "text": [
      "root\n",
      " |-- id: integer (nullable = true)\n",
      " |-- game: string (nullable = true)\n",
      " |-- sentiment: string (nullable = true)\n",
      " |-- tweet: string (nullable = true)\n",
      "\n"
     ]
    }
   ],
   "source": [
    "dataset = spark.read.csv(training_path, inferSchema=True, schema = schema)\n",
    "dataset.printSchema()"
   ]
  },
  {
   "cell_type": "code",
   "execution_count": 6,
   "id": "9c7f7b49-3622-4f1a-b8e8-8ef1699a406e",
   "metadata": {},
   "outputs": [
    {
     "name": "stdout",
     "output_type": "stream",
     "text": [
      "+----+-----------+---------+--------------------+\n",
      "|  id|       game|sentiment|               tweet|\n",
      "+----+-----------+---------+--------------------+\n",
      "|2401|Borderlands| Positive|im getting on bor...|\n",
      "|2401|Borderlands| Positive|I am coming to th...|\n",
      "|2401|Borderlands| Positive|im getting on bor...|\n",
      "|2401|Borderlands| Positive|im coming on bord...|\n",
      "|2401|Borderlands| Positive|im getting on bor...|\n",
      "|2401|Borderlands| Positive|im getting into b...|\n",
      "|2402|Borderlands| Positive|So I spent a few ...|\n",
      "|2402|Borderlands| Positive|So I spent a coup...|\n",
      "|2402|Borderlands| Positive|So I spent a few ...|\n",
      "|2402|Borderlands| Positive|So I spent a few ...|\n",
      "|2402|Borderlands| Positive|2010 So I spent a...|\n",
      "|2402|Borderlands| Positive|                 was|\n",
      "|2403|Borderlands|  Neutral|Rock-Hard La Varl...|\n",
      "|2403|Borderlands|  Neutral|Rock-Hard La Varl...|\n",
      "|2403|Borderlands|  Neutral|Rock-Hard La Varl...|\n",
      "|2403|Borderlands|  Neutral|Rock-Hard La Vita...|\n",
      "|2403|Borderlands|  Neutral|Live Rock - Hard ...|\n",
      "|2403|Borderlands|  Neutral|I-Hard like me, R...|\n",
      "|2404|Borderlands| Positive|that was the firs...|\n",
      "|2404|Borderlands| Positive|this was the firs...|\n",
      "+----+-----------+---------+--------------------+\n",
      "only showing top 20 rows\n",
      "\n"
     ]
    }
   ],
   "source": [
    "dataset.show()"
   ]
  },
  {
   "cell_type": "code",
   "execution_count": 7,
   "id": "8e34f05c-fd57-422b-8f96-705b830ce5f0",
   "metadata": {},
   "outputs": [
    {
     "name": "stderr",
     "output_type": "stream",
     "text": [
      "[Stage 1:=======================================>                   (2 + 1) / 3]\r"
     ]
    },
    {
     "name": "stdout",
     "output_type": "stream",
     "text": [
      "+-------+-----------------+---------------+----------+--------------------+\n",
      "|summary|               id|           game| sentiment|               tweet|\n",
      "+-------+-----------------+---------------+----------+--------------------+\n",
      "|  count|            74682|          74682|     74682|               73996|\n",
      "|   mean|6432.586165341046|           null|      null|                 3.2|\n",
      "| stddev|3740.427870177445|           null|      null|   2.007130147392398|\n",
      "|    min|                1|         Amazon|Irrelevant|                    |\n",
      "|    max|            13200|johnson&johnson|  Positive|🧻 at Home Depot ...|\n",
      "+-------+-----------------+---------------+----------+--------------------+\n",
      "\n"
     ]
    },
    {
     "name": "stderr",
     "output_type": "stream",
     "text": [
      "                                                                                \r"
     ]
    }
   ],
   "source": [
    "dataset.describe().show()"
   ]
  },
  {
   "cell_type": "code",
   "execution_count": 8,
   "id": "3df4df98-8342-4205-9aa9-716c83ed5912",
   "metadata": {},
   "outputs": [
    {
     "name": "stdout",
     "output_type": "stream",
     "text": [
      "+---+----+---------+-----+\n",
      "| id|game|sentiment|tweet|\n",
      "+---+----+---------+-----+\n",
      "|  0|   0|        0|  686|\n",
      "+---+----+---------+-----+\n",
      "\n"
     ]
    }
   ],
   "source": [
    "null_counts = dataset.select(*(spark_sum(col(c).isNull().cast(\"int\")).alias(c) for c in dataset.columns))\n",
    "null_counts.show()"
   ]
  },
  {
   "cell_type": "markdown",
   "id": "dcc9702c-1b54-40eb-8e33-601daaf8e4c7",
   "metadata": {},
   "source": [
    "# Text Preprocessing"
   ]
  },
  {
   "cell_type": "code",
   "execution_count": 9,
   "id": "98431b51-015e-44f7-9c02-6564dc0565e3",
   "metadata": {},
   "outputs": [
    {
     "name": "stdout",
     "output_type": "stream",
     "text": [
      "The training dataset contains 74682 samples.\n"
     ]
    }
   ],
   "source": [
    "print(\"The training dataset contains {} samples.\".format(dataset.count()))"
   ]
  },
  {
   "cell_type": "code",
   "execution_count": 10,
   "id": "b4803bbc-077e-4f85-9d25-2d8afbbac013",
   "metadata": {},
   "outputs": [],
   "source": [
    "dataset = dataset.dropna(subset=[\"tweet\"])"
   ]
  },
  {
   "cell_type": "markdown",
   "id": "05b60495-d018-425f-be3f-373d1418c24e",
   "metadata": {},
   "source": [
    "## Chargement du dataset et séparation train/test"
   ]
  },
  {
   "cell_type": "code",
   "execution_count": 11,
   "id": "34c111ad-4d56-4391-b6a2-fec84acd0001",
   "metadata": {},
   "outputs": [],
   "source": [
    "train_set, test_set = dataset.randomSplit([0.8, 0.2], seed=42)"
   ]
  },
  {
   "cell_type": "markdown",
   "id": "f5019cb5-0544-4d3e-8f1d-4af8021843a5",
   "metadata": {},
   "source": [
    "#### The 'tweet' column in our dataset is in string format. Therefore, we cannot directly use it for training. First, we need to tokenize it, which we achieve with a tokenizer. Then, we convert these words into vectors using HashingTF. In the notebook's later part, we will see that CountVectorizer is used instead of this method. These two are completely separate methods, and both can be used. By applying these methods, we prepare our 'text' column for training by applying IDF to it. Finally, we label the target column with StringIndexer and convert it to double.\n",
    "\n",
    "    1. Tokinizer : text -> words\n",
    "    2. HashingTF : filtered_words -> tf\n",
    "    3. IDF : tf -> features\n",
    "    \n"
   ]
  },
  {
   "cell_type": "markdown",
   "id": "a63fbd78-dc08-4120-a98e-80f20b7e94c8",
   "metadata": {},
   "source": [
    "#### now we will convert these categorical Target (column = sentiment) into numerical indices. we will use StringIndexer for this purpose.\n",
    "    4. IDF : StringIndexer : target -> label"
   ]
  },
  {
   "cell_type": "markdown",
   "id": "3e46f8a8-d883-46ca-9e49-3f938a16486a",
   "metadata": {},
   "source": [
    "### If we start with logistic regression, we can put all these pre-processing steps in a pipeline to make it easier to run."
   ]
  },
  {
   "cell_type": "markdown",
   "id": "420b36a1-f765-4173-9a14-fb94efda9016",
   "metadata": {},
   "source": [
    "# CountVectorizer - IDF (paramètres customisés)"
   ]
  },
  {
   "cell_type": "code",
   "execution_count": 12,
   "id": "9bb310f2-1994-43ef-897f-89e477b82654",
   "metadata": {
    "scrolled": true
   },
   "outputs": [
    {
     "name": "stderr",
     "output_type": "stream",
     "text": [
      "                                                                                \r"
     ]
    },
    {
     "name": "stdout",
     "output_type": "stream",
     "text": [
      "24/05/13 22:22:35 WARN DAGScheduler: Broadcasting large task binary with size 1912.8 KiB\n"
     ]
    },
    {
     "name": "stderr",
     "output_type": "stream",
     "text": [
      "                                                                                \r"
     ]
    },
    {
     "name": "stdout",
     "output_type": "stream",
     "text": [
      "24/05/13 22:22:37 WARN InstanceBuilder$JavaBLAS: Failed to load implementation from:dev.ludovic.netlib.blas.VectorBLAS\n",
      "24/05/13 22:22:37 WARN DAGScheduler: Broadcasting large task binary with size 1914.4 KiB\n"
     ]
    },
    {
     "name": "stderr",
     "output_type": "stream",
     "text": [
      "                                                                                \r"
     ]
    },
    {
     "name": "stdout",
     "output_type": "stream",
     "text": [
      "24/05/13 22:22:40 WARN BLAS: Failed to load implementation from: com.github.fommil.netlib.NativeSystemBLAS\n",
      "24/05/13 22:22:40 WARN BLAS: Failed to load implementation from: com.github.fommil.netlib.NativeRefBLAS\n",
      "24/05/13 22:22:40 WARN DAGScheduler: Broadcasting large task binary with size 1914.4 KiB\n",
      "24/05/13 22:22:40 WARN DAGScheduler: Broadcasting large task binary with size 1914.4 KiB\n",
      "24/05/13 22:22:41 WARN DAGScheduler: Broadcasting large task binary with size 1914.4 KiB\n",
      "24/05/13 22:22:41 WARN DAGScheduler: Broadcasting large task binary with size 1914.4 KiB\n",
      "24/05/13 22:22:42 WARN DAGScheduler: Broadcasting large task binary with size 1914.4 KiB\n",
      "24/05/13 22:22:42 WARN DAGScheduler: Broadcasting large task binary with size 1914.4 KiB\n",
      "24/05/13 22:22:43 WARN DAGScheduler: Broadcasting large task binary with size 1914.4 KiB\n",
      "24/05/13 22:22:43 WARN DAGScheduler: Broadcasting large task binary with size 1914.4 KiB\n",
      "24/05/13 22:22:44 WARN DAGScheduler: Broadcasting large task binary with size 1914.4 KiB\n",
      "24/05/13 22:22:44 WARN DAGScheduler: Broadcasting large task binary with size 1914.4 KiB\n",
      "24/05/13 22:22:45 WARN DAGScheduler: Broadcasting large task binary with size 1914.4 KiB\n",
      "24/05/13 22:22:45 WARN DAGScheduler: Broadcasting large task binary with size 1914.4 KiB\n",
      "24/05/13 22:22:45 WARN DAGScheduler: Broadcasting large task binary with size 1914.4 KiB\n",
      "24/05/13 22:22:46 WARN DAGScheduler: Broadcasting large task binary with size 1914.4 KiB\n",
      "24/05/13 22:22:46 WARN DAGScheduler: Broadcasting large task binary with size 1914.4 KiB\n",
      "24/05/13 22:22:47 WARN DAGScheduler: Broadcasting large task binary with size 1914.4 KiB\n",
      "24/05/13 22:22:47 WARN DAGScheduler: Broadcasting large task binary with size 1914.4 KiB\n",
      "24/05/13 22:22:47 WARN DAGScheduler: Broadcasting large task binary with size 1914.4 KiB\n",
      "24/05/13 22:22:48 WARN DAGScheduler: Broadcasting large task binary with size 1914.4 KiB\n",
      "24/05/13 22:22:48 WARN DAGScheduler: Broadcasting large task binary with size 1914.4 KiB\n",
      "24/05/13 22:22:49 WARN DAGScheduler: Broadcasting large task binary with size 1914.4 KiB\n",
      "24/05/13 22:22:49 WARN DAGScheduler: Broadcasting large task binary with size 1914.4 KiB\n",
      "24/05/13 22:22:50 WARN DAGScheduler: Broadcasting large task binary with size 1914.4 KiB\n",
      "24/05/13 22:22:50 WARN DAGScheduler: Broadcasting large task binary with size 1914.4 KiB\n",
      "24/05/13 22:22:50 WARN DAGScheduler: Broadcasting large task binary with size 1914.4 KiB\n",
      "24/05/13 22:22:51 WARN DAGScheduler: Broadcasting large task binary with size 1914.4 KiB\n",
      "24/05/13 22:22:51 WARN DAGScheduler: Broadcasting large task binary with size 1914.4 KiB\n",
      "24/05/13 22:22:51 WARN DAGScheduler: Broadcasting large task binary with size 1914.4 KiB\n",
      "24/05/13 22:22:52 WARN DAGScheduler: Broadcasting large task binary with size 1914.4 KiB\n",
      "24/05/13 22:22:52 WARN DAGScheduler: Broadcasting large task binary with size 1914.4 KiB\n",
      "24/05/13 22:22:52 WARN DAGScheduler: Broadcasting large task binary with size 1914.4 KiB\n",
      "24/05/13 22:22:53 WARN DAGScheduler: Broadcasting large task binary with size 1914.4 KiB\n",
      "24/05/13 22:22:53 WARN DAGScheduler: Broadcasting large task binary with size 1914.4 KiB\n",
      "24/05/13 22:22:53 WARN DAGScheduler: Broadcasting large task binary with size 1914.4 KiB\n",
      "24/05/13 22:22:54 WARN DAGScheduler: Broadcasting large task binary with size 1914.4 KiB\n",
      "24/05/13 22:22:54 WARN DAGScheduler: Broadcasting large task binary with size 1914.4 KiB\n",
      "24/05/13 22:22:54 WARN DAGScheduler: Broadcasting large task binary with size 1914.4 KiB\n",
      "24/05/13 22:22:55 WARN DAGScheduler: Broadcasting large task binary with size 1914.4 KiB\n",
      "24/05/13 22:22:55 WARN DAGScheduler: Broadcasting large task binary with size 1914.4 KiB\n",
      "24/05/13 22:22:55 WARN DAGScheduler: Broadcasting large task binary with size 1914.4 KiB\n",
      "24/05/13 22:22:56 WARN DAGScheduler: Broadcasting large task binary with size 1914.4 KiB\n",
      "24/05/13 22:22:56 WARN DAGScheduler: Broadcasting large task binary with size 1914.4 KiB\n",
      "24/05/13 22:22:56 WARN DAGScheduler: Broadcasting large task binary with size 1914.4 KiB\n",
      "24/05/13 22:22:57 WARN DAGScheduler: Broadcasting large task binary with size 1914.4 KiB\n",
      "24/05/13 22:22:57 WARN DAGScheduler: Broadcasting large task binary with size 1914.4 KiB\n",
      "24/05/13 22:22:57 WARN DAGScheduler: Broadcasting large task binary with size 1914.4 KiB\n",
      "24/05/13 22:22:58 WARN DAGScheduler: Broadcasting large task binary with size 1914.4 KiB\n",
      "24/05/13 22:22:58 WARN DAGScheduler: Broadcasting large task binary with size 1914.4 KiB\n",
      "24/05/13 22:22:58 WARN DAGScheduler: Broadcasting large task binary with size 1914.4 KiB\n",
      "24/05/13 22:22:59 WARN DAGScheduler: Broadcasting large task binary with size 1914.4 KiB\n",
      "24/05/13 22:22:59 WARN DAGScheduler: Broadcasting large task binary with size 1914.4 KiB\n",
      "24/05/13 22:22:59 WARN DAGScheduler: Broadcasting large task binary with size 1914.4 KiB\n",
      "24/05/13 22:23:00 WARN DAGScheduler: Broadcasting large task binary with size 1914.4 KiB\n",
      "24/05/13 22:23:00 WARN DAGScheduler: Broadcasting large task binary with size 1914.4 KiB\n",
      "24/05/13 22:23:00 WARN DAGScheduler: Broadcasting large task binary with size 1914.4 KiB\n",
      "24/05/13 22:23:00 WARN DAGScheduler: Broadcasting large task binary with size 1914.4 KiB\n",
      "24/05/13 22:23:01 WARN DAGScheduler: Broadcasting large task binary with size 1914.4 KiB\n",
      "24/05/13 22:23:01 WARN DAGScheduler: Broadcasting large task binary with size 1914.4 KiB\n",
      "24/05/13 22:23:01 WARN DAGScheduler: Broadcasting large task binary with size 1914.4 KiB\n",
      "24/05/13 22:23:02 WARN DAGScheduler: Broadcasting large task binary with size 1914.4 KiB\n",
      "24/05/13 22:23:02 WARN DAGScheduler: Broadcasting large task binary with size 1914.4 KiB\n",
      "24/05/13 22:23:02 WARN DAGScheduler: Broadcasting large task binary with size 1914.4 KiB\n",
      "24/05/13 22:23:03 WARN DAGScheduler: Broadcasting large task binary with size 1914.4 KiB\n",
      "24/05/13 22:23:03 WARN DAGScheduler: Broadcasting large task binary with size 1914.4 KiB\n",
      "24/05/13 22:23:03 WARN DAGScheduler: Broadcasting large task binary with size 1914.4 KiB\n",
      "24/05/13 22:23:04 WARN DAGScheduler: Broadcasting large task binary with size 1914.4 KiB\n",
      "24/05/13 22:23:04 WARN DAGScheduler: Broadcasting large task binary with size 1914.4 KiB\n",
      "24/05/13 22:23:04 WARN DAGScheduler: Broadcasting large task binary with size 1914.4 KiB\n",
      "24/05/13 22:23:04 WARN DAGScheduler: Broadcasting large task binary with size 1914.4 KiB\n",
      "24/05/13 22:23:05 WARN DAGScheduler: Broadcasting large task binary with size 1914.4 KiB\n",
      "24/05/13 22:23:05 WARN DAGScheduler: Broadcasting large task binary with size 1914.4 KiB\n",
      "24/05/13 22:23:05 WARN DAGScheduler: Broadcasting large task binary with size 1914.4 KiB\n",
      "24/05/13 22:23:05 WARN DAGScheduler: Broadcasting large task binary with size 1914.4 KiB\n",
      "24/05/13 22:23:06 WARN DAGScheduler: Broadcasting large task binary with size 1914.4 KiB\n",
      "24/05/13 22:23:06 WARN DAGScheduler: Broadcasting large task binary with size 1914.4 KiB\n",
      "24/05/13 22:23:06 WARN DAGScheduler: Broadcasting large task binary with size 1914.4 KiB\n",
      "24/05/13 22:23:06 WARN DAGScheduler: Broadcasting large task binary with size 1914.4 KiB\n",
      "24/05/13 22:23:07 WARN DAGScheduler: Broadcasting large task binary with size 1914.4 KiB\n",
      "24/05/13 22:23:07 WARN DAGScheduler: Broadcasting large task binary with size 1914.4 KiB\n",
      "24/05/13 22:23:07 WARN DAGScheduler: Broadcasting large task binary with size 1914.4 KiB\n",
      "24/05/13 22:23:07 WARN DAGScheduler: Broadcasting large task binary with size 1914.4 KiB\n",
      "24/05/13 22:23:08 WARN DAGScheduler: Broadcasting large task binary with size 1914.4 KiB\n",
      "24/05/13 22:23:08 WARN DAGScheduler: Broadcasting large task binary with size 1914.4 KiB\n",
      "24/05/13 22:23:08 WARN DAGScheduler: Broadcasting large task binary with size 1914.4 KiB\n",
      "24/05/13 22:23:09 WARN DAGScheduler: Broadcasting large task binary with size 1914.4 KiB\n",
      "24/05/13 22:23:09 WARN DAGScheduler: Broadcasting large task binary with size 1914.4 KiB\n",
      "24/05/13 22:23:09 WARN DAGScheduler: Broadcasting large task binary with size 1914.4 KiB\n",
      "24/05/13 22:23:10 WARN DAGScheduler: Broadcasting large task binary with size 1914.4 KiB\n",
      "24/05/13 22:23:10 WARN DAGScheduler: Broadcasting large task binary with size 1914.4 KiB\n",
      "24/05/13 22:23:10 WARN DAGScheduler: Broadcasting large task binary with size 1914.4 KiB\n",
      "24/05/13 22:23:11 WARN DAGScheduler: Broadcasting large task binary with size 1914.4 KiB\n",
      "24/05/13 22:23:11 WARN DAGScheduler: Broadcasting large task binary with size 1914.4 KiB\n",
      "24/05/13 22:23:12 WARN DAGScheduler: Broadcasting large task binary with size 1914.4 KiB\n",
      "24/05/13 22:23:12 WARN DAGScheduler: Broadcasting large task binary with size 1914.4 KiB\n",
      "24/05/13 22:23:12 WARN DAGScheduler: Broadcasting large task binary with size 1914.4 KiB\n",
      "24/05/13 22:23:13 WARN DAGScheduler: Broadcasting large task binary with size 1914.4 KiB\n",
      "24/05/13 22:23:13 WARN DAGScheduler: Broadcasting large task binary with size 1914.4 KiB\n",
      "24/05/13 22:23:14 WARN DAGScheduler: Broadcasting large task binary with size 1914.4 KiB\n",
      "24/05/13 22:23:14 WARN DAGScheduler: Broadcasting large task binary with size 1914.4 KiB\n",
      "24/05/13 22:23:14 WARN DAGScheduler: Broadcasting large task binary with size 1914.4 KiB\n",
      "24/05/13 22:23:15 WARN DAGScheduler: Broadcasting large task binary with size 1914.4 KiB\n",
      "24/05/13 22:23:15 WARN DAGScheduler: Broadcasting large task binary with size 1914.4 KiB\n",
      "24/05/13 22:23:15 WARN DAGScheduler: Broadcasting large task binary with size 1914.4 KiB\n",
      "24/05/13 22:23:16 WARN DAGScheduler: Broadcasting large task binary with size 1914.4 KiB\n",
      "24/05/13 22:23:16 WARN DAGScheduler: Broadcasting large task binary with size 1914.4 KiB\n",
      "24/05/13 22:23:16 WARN DAGScheduler: Broadcasting large task binary with size 1914.4 KiB\n",
      "24/05/13 22:23:17 WARN DAGScheduler: Broadcasting large task binary with size 1914.4 KiB\n",
      "24/05/13 22:23:18 WARN DAGScheduler: Broadcasting large task binary with size 2.6 MiB\n"
     ]
    },
    {
     "name": "stderr",
     "output_type": "stream",
     "text": [
      "                                                                                \r"
     ]
    },
    {
     "name": "stdout",
     "output_type": "stream",
     "text": [
      "24/05/13 22:23:20 WARN DAGScheduler: Broadcasting large task binary with size 2.6 MiB\n"
     ]
    },
    {
     "name": "stderr",
     "output_type": "stream",
     "text": [
      "                                                                                \r"
     ]
    },
    {
     "name": "stdout",
     "output_type": "stream",
     "text": [
      "24/05/13 22:23:21 WARN DAGScheduler: Broadcasting large task binary with size 2.6 MiB\n"
     ]
    },
    {
     "name": "stderr",
     "output_type": "stream",
     "text": [
      "                                                                                \r"
     ]
    },
    {
     "name": "stdout",
     "output_type": "stream",
     "text": [
      "24/05/13 22:23:22 WARN DAGScheduler: Broadcasting large task binary with size 2.6 MiB\n"
     ]
    },
    {
     "name": "stderr",
     "output_type": "stream",
     "text": [
      "                                                                                \r"
     ]
    }
   ],
   "source": [
    "tokenizer = Tokenizer(inputCol=\"tweet\", outputCol=\"words\")\n",
    "cv = CountVectorizer(vocabSize=2**16, inputCol=\"words\", outputCol='cv')\n",
    "idf = IDF(inputCol='cv', outputCol=\"features\", minDocFreq=5) #minDocFreq: remove sparse terms\n",
    "\n",
    "\n",
    "label_stringIdx = StringIndexer(inputCol = \"sentiment\", outputCol = \"label\")\n",
    "\n",
    "lr = LogisticRegression(featuresCol=\"features\", labelCol=\"label\", family=\"multinomial\")\n",
    "pipelinee = Pipeline(stages=[tokenizer, cv, idf, label_stringIdx, lr])\n",
    "\n",
    "evaluator_accuracy = MulticlassClassificationEvaluator(labelCol=\"label\", predictionCol=\"prediction\", metricName=\"accuracy\")\n",
    "evaluator_f1 = MulticlassClassificationEvaluator(labelCol=\"label\", predictionCol=\"prediction\", metricName=\"f1\")\n",
    "evaluator_weighted_precision = MulticlassClassificationEvaluator(labelCol=\"label\", predictionCol=\"prediction\", metricName=\"weightedPrecision\")\n",
    "evaluator_weighted_recall = MulticlassClassificationEvaluator(labelCol=\"label\", predictionCol=\"prediction\", metricName=\"weightedRecall\")\n",
    "\n",
    "st1 = datetime.utcnow()\n",
    "pipeline_countvec = pipelinee.fit(train_set)\n",
    "predictions_countvec = pipeline_countvec.transform(test_set)\n",
    "accuracy_countvec = evaluator_accuracy.evaluate(predictions_countvec)\n",
    "f1_score_countvec = evaluator_f1.evaluate(predictions_countvec)\n",
    "weighted_precision_countvec = evaluator_weighted_precision.evaluate(predictions_countvec)\n",
    "weighted_recall_countvec = evaluator_weighted_recall.evaluate(predictions_countvec)"
   ]
  },
  {
   "cell_type": "code",
   "execution_count": 13,
   "id": "35594afd-57ae-4fbb-9916-08647ef96bd7",
   "metadata": {},
   "outputs": [
    {
     "name": "stdout",
     "output_type": "stream",
     "text": [
      "\n",
      " ********************************************** \n",
      "\n",
      "Accuracy: 0.7730753452755367\n",
      "F1 Score: 0.773061169655463\n",
      "Weighted Precision: 0.7734063465915223\n",
      "Weighted Recall: 0.7730753452755368\n",
      "Training time: 0:01:00.130627\n",
      "\n",
      " ********************************************** \n",
      "\n"
     ]
    }
   ],
   "source": [
    "print(\"\\n ********************************************** \\n\")\n",
    "print(\"Accuracy:\", accuracy_countvec)\n",
    "print(\"F1 Score:\", f1_score_countvec)\n",
    "print(\"Weighted Precision:\", weighted_precision_countvec)\n",
    "print(\"Weighted Recall:\", weighted_recall_countvec)\n",
    "print('Training time:', datetime.utcnow() - st1)\n",
    "print(\"\\n ********************************************** \\n\")"
   ]
  },
  {
   "cell_type": "markdown",
   "id": "3cf22d23-eeb7-40ae-9833-678e614338d4",
   "metadata": {},
   "source": [
    "# CountVectorizer + NGram + ChisQSelector"
   ]
  },
  {
   "cell_type": "code",
   "execution_count": 14,
   "id": "10adc2e0-a0db-40ae-932a-d9c5194026ed",
   "metadata": {},
   "outputs": [],
   "source": [
    "def build_trigrams(inputCol=[\"tweet\",\"sentiment\"], n=3):\n",
    "    \n",
    "    tokenizer = [Tokenizer(inputCol=\"tweet\", outputCol=\"words\")]\n",
    "    \n",
    "    ngrams = [\n",
    "        NGram(n=i, inputCol=\"words\", outputCol=\"{0}_grams\".format(i))\n",
    "        for i in range(1, n + 1)\n",
    "    ]\n",
    "\n",
    "    cv = [\n",
    "        CountVectorizer(vocabSize=2**14,inputCol=\"{0}_grams\".format(i),\n",
    "            outputCol=\"{0}_tf\".format(i))\n",
    "        for i in range(1, n + 1)\n",
    "    ]\n",
    "    \n",
    "    idf = [IDF(inputCol=\"{0}_tf\".format(i), outputCol=\"{0}_tfidf\".format(i), minDocFreq=5) for i in range(1, n + 1)]\n",
    "\n",
    "    assembler = [VectorAssembler(\n",
    "        inputCols=[\"{0}_tfidf\".format(i) for i in range(1, n + 1)],\n",
    "        outputCol=\"rawFeatures\"\n",
    "    )]\n",
    "    \n",
    "    label_stringIdx = [StringIndexer(inputCol = \"sentiment\", outputCol = \"label\")]\n",
    "    \n",
    "    selector = [ChiSqSelector(numTopFeatures=2**14,featuresCol='rawFeatures', outputCol=\"features\")]\n",
    "    \n",
    "    lr = [LogisticRegression()]\n",
    "    \n",
    "    return Pipeline(stages=tokenizer + ngrams + cv + idf + assembler + label_stringIdx + selector + lr)"
   ]
  },
  {
   "cell_type": "code",
   "execution_count": 15,
   "id": "2bd15a2c-d294-447c-bccf-b09bf7ada7a8",
   "metadata": {
    "scrolled": true
   },
   "outputs": [
    {
     "name": "stderr",
     "output_type": "stream",
     "text": [
      "                                                                                \r"
     ]
    },
    {
     "name": "stdout",
     "output_type": "stream",
     "text": [
      "24/05/13 22:23:44 WARN DAGScheduler: Broadcasting large task binary with size 4.1 MiB\n",
      "24/05/13 22:23:45 WARN DAGScheduler: Broadcasting large task binary with size 4.1 MiB\n"
     ]
    },
    {
     "name": "stderr",
     "output_type": "stream",
     "text": [
      "                                                                                \r"
     ]
    },
    {
     "name": "stdout",
     "output_type": "stream",
     "text": [
      "24/05/13 22:23:49 WARN DAGScheduler: Broadcasting large task binary with size 4.1 MiB\n"
     ]
    },
    {
     "name": "stderr",
     "output_type": "stream",
     "text": [
      "                                                                                \r"
     ]
    },
    {
     "name": "stdout",
     "output_type": "stream",
     "text": [
      "24/05/13 22:24:00 WARN DAGScheduler: Broadcasting large task binary with size 4.9 MiB\n"
     ]
    },
    {
     "name": "stderr",
     "output_type": "stream",
     "text": [
      "                                                                                \r"
     ]
    },
    {
     "name": "stdout",
     "output_type": "stream",
     "text": [
      "24/05/13 22:24:05 WARN DAGScheduler: Broadcasting large task binary with size 4.9 MiB\n"
     ]
    },
    {
     "name": "stderr",
     "output_type": "stream",
     "text": [
      "                                                                                \r"
     ]
    },
    {
     "name": "stdout",
     "output_type": "stream",
     "text": [
      "24/05/13 22:24:11 WARN DAGScheduler: Broadcasting large task binary with size 4.9 MiB\n",
      "24/05/13 22:24:12 WARN DAGScheduler: Broadcasting large task binary with size 4.9 MiB\n"
     ]
    },
    {
     "name": "stderr",
     "output_type": "stream",
     "text": [
      "                                                                                \r"
     ]
    },
    {
     "name": "stdout",
     "output_type": "stream",
     "text": [
      "24/05/13 22:24:12 WARN DAGScheduler: Broadcasting large task binary with size 4.9 MiB\n",
      "24/05/13 22:24:13 WARN DAGScheduler: Broadcasting large task binary with size 4.9 MiB\n",
      "24/05/13 22:24:13 WARN DAGScheduler: Broadcasting large task binary with size 4.9 MiB\n",
      "24/05/13 22:24:14 WARN DAGScheduler: Broadcasting large task binary with size 4.9 MiB\n",
      "24/05/13 22:24:14 WARN DAGScheduler: Broadcasting large task binary with size 4.9 MiB\n",
      "24/05/13 22:24:15 WARN DAGScheduler: Broadcasting large task binary with size 4.9 MiB\n",
      "24/05/13 22:24:15 WARN DAGScheduler: Broadcasting large task binary with size 4.9 MiB\n",
      "24/05/13 22:24:16 WARN DAGScheduler: Broadcasting large task binary with size 4.9 MiB\n",
      "24/05/13 22:24:17 WARN DAGScheduler: Broadcasting large task binary with size 4.9 MiB\n"
     ]
    },
    {
     "name": "stderr",
     "output_type": "stream",
     "text": [
      "                                                                                \r"
     ]
    },
    {
     "name": "stdout",
     "output_type": "stream",
     "text": [
      "24/05/13 22:24:17 WARN DAGScheduler: Broadcasting large task binary with size 4.9 MiB\n",
      "24/05/13 22:24:18 WARN DAGScheduler: Broadcasting large task binary with size 4.9 MiB\n"
     ]
    },
    {
     "name": "stderr",
     "output_type": "stream",
     "text": [
      "                                                                                \r"
     ]
    },
    {
     "name": "stdout",
     "output_type": "stream",
     "text": [
      "24/05/13 22:24:18 WARN DAGScheduler: Broadcasting large task binary with size 4.9 MiB\n"
     ]
    },
    {
     "name": "stderr",
     "output_type": "stream",
     "text": [
      "                                                                                \r"
     ]
    },
    {
     "name": "stdout",
     "output_type": "stream",
     "text": [
      "24/05/13 22:24:19 WARN DAGScheduler: Broadcasting large task binary with size 4.9 MiB\n"
     ]
    },
    {
     "name": "stderr",
     "output_type": "stream",
     "text": [
      "                                                                                \r"
     ]
    },
    {
     "name": "stdout",
     "output_type": "stream",
     "text": [
      "24/05/13 22:24:20 WARN DAGScheduler: Broadcasting large task binary with size 4.9 MiB\n"
     ]
    },
    {
     "name": "stderr",
     "output_type": "stream",
     "text": [
      "                                                                                \r"
     ]
    },
    {
     "name": "stdout",
     "output_type": "stream",
     "text": [
      "24/05/13 22:24:21 WARN DAGScheduler: Broadcasting large task binary with size 4.9 MiB\n"
     ]
    },
    {
     "name": "stderr",
     "output_type": "stream",
     "text": [
      "                                                                                \r"
     ]
    },
    {
     "name": "stdout",
     "output_type": "stream",
     "text": [
      "24/05/13 22:24:22 WARN DAGScheduler: Broadcasting large task binary with size 4.9 MiB\n"
     ]
    },
    {
     "name": "stderr",
     "output_type": "stream",
     "text": [
      "                                                                                \r"
     ]
    },
    {
     "name": "stdout",
     "output_type": "stream",
     "text": [
      "24/05/13 22:24:23 WARN DAGScheduler: Broadcasting large task binary with size 4.9 MiB\n"
     ]
    },
    {
     "name": "stderr",
     "output_type": "stream",
     "text": [
      "                                                                                \r"
     ]
    },
    {
     "name": "stdout",
     "output_type": "stream",
     "text": [
      "24/05/13 22:24:24 WARN DAGScheduler: Broadcasting large task binary with size 4.9 MiB\n"
     ]
    },
    {
     "name": "stderr",
     "output_type": "stream",
     "text": [
      "                                                                                \r"
     ]
    },
    {
     "name": "stdout",
     "output_type": "stream",
     "text": [
      "24/05/13 22:24:25 WARN DAGScheduler: Broadcasting large task binary with size 4.9 MiB\n"
     ]
    },
    {
     "name": "stderr",
     "output_type": "stream",
     "text": [
      "                                                                                \r"
     ]
    },
    {
     "name": "stdout",
     "output_type": "stream",
     "text": [
      "24/05/13 22:24:26 WARN DAGScheduler: Broadcasting large task binary with size 4.9 MiB\n"
     ]
    },
    {
     "name": "stderr",
     "output_type": "stream",
     "text": [
      "                                                                                \r"
     ]
    },
    {
     "name": "stdout",
     "output_type": "stream",
     "text": [
      "24/05/13 22:24:26 WARN DAGScheduler: Broadcasting large task binary with size 4.9 MiB\n"
     ]
    },
    {
     "name": "stderr",
     "output_type": "stream",
     "text": [
      "                                                                                \r"
     ]
    },
    {
     "name": "stdout",
     "output_type": "stream",
     "text": [
      "24/05/13 22:24:28 WARN DAGScheduler: Broadcasting large task binary with size 4.9 MiB\n"
     ]
    },
    {
     "name": "stderr",
     "output_type": "stream",
     "text": [
      "                                                                                \r"
     ]
    },
    {
     "name": "stdout",
     "output_type": "stream",
     "text": [
      "24/05/13 22:24:28 WARN DAGScheduler: Broadcasting large task binary with size 4.9 MiB\n"
     ]
    },
    {
     "name": "stderr",
     "output_type": "stream",
     "text": [
      "                                                                                \r"
     ]
    },
    {
     "name": "stdout",
     "output_type": "stream",
     "text": [
      "24/05/13 22:24:29 WARN DAGScheduler: Broadcasting large task binary with size 4.9 MiB\n"
     ]
    },
    {
     "name": "stderr",
     "output_type": "stream",
     "text": [
      "                                                                                \r"
     ]
    },
    {
     "name": "stdout",
     "output_type": "stream",
     "text": [
      "24/05/13 22:24:30 WARN DAGScheduler: Broadcasting large task binary with size 4.9 MiB\n"
     ]
    },
    {
     "name": "stderr",
     "output_type": "stream",
     "text": [
      "                                                                                \r"
     ]
    },
    {
     "name": "stdout",
     "output_type": "stream",
     "text": [
      "24/05/13 22:24:31 WARN DAGScheduler: Broadcasting large task binary with size 4.9 MiB\n"
     ]
    },
    {
     "name": "stderr",
     "output_type": "stream",
     "text": [
      "                                                                                \r"
     ]
    },
    {
     "name": "stdout",
     "output_type": "stream",
     "text": [
      "24/05/13 22:24:32 WARN DAGScheduler: Broadcasting large task binary with size 4.9 MiB\n"
     ]
    },
    {
     "name": "stderr",
     "output_type": "stream",
     "text": [
      "                                                                                \r"
     ]
    },
    {
     "name": "stdout",
     "output_type": "stream",
     "text": [
      "24/05/13 22:24:32 WARN DAGScheduler: Broadcasting large task binary with size 4.9 MiB\n"
     ]
    },
    {
     "name": "stderr",
     "output_type": "stream",
     "text": [
      "                                                                                \r"
     ]
    },
    {
     "name": "stdout",
     "output_type": "stream",
     "text": [
      "24/05/13 22:24:33 WARN DAGScheduler: Broadcasting large task binary with size 4.9 MiB\n"
     ]
    },
    {
     "name": "stderr",
     "output_type": "stream",
     "text": [
      "                                                                                \r"
     ]
    },
    {
     "name": "stdout",
     "output_type": "stream",
     "text": [
      "24/05/13 22:24:34 WARN DAGScheduler: Broadcasting large task binary with size 4.9 MiB\n",
      "24/05/13 22:24:35 WARN DAGScheduler: Broadcasting large task binary with size 4.9 MiB\n"
     ]
    },
    {
     "name": "stderr",
     "output_type": "stream",
     "text": [
      "                                                                                \r"
     ]
    },
    {
     "name": "stdout",
     "output_type": "stream",
     "text": [
      "24/05/13 22:24:36 WARN DAGScheduler: Broadcasting large task binary with size 4.9 MiB\n"
     ]
    },
    {
     "name": "stderr",
     "output_type": "stream",
     "text": [
      "                                                                                \r"
     ]
    },
    {
     "name": "stdout",
     "output_type": "stream",
     "text": [
      "24/05/13 22:24:36 WARN DAGScheduler: Broadcasting large task binary with size 4.9 MiB\n"
     ]
    },
    {
     "name": "stderr",
     "output_type": "stream",
     "text": [
      "                                                                                \r"
     ]
    },
    {
     "name": "stdout",
     "output_type": "stream",
     "text": [
      "24/05/13 22:24:37 WARN DAGScheduler: Broadcasting large task binary with size 4.9 MiB\n"
     ]
    },
    {
     "name": "stderr",
     "output_type": "stream",
     "text": [
      "                                                                                \r"
     ]
    },
    {
     "name": "stdout",
     "output_type": "stream",
     "text": [
      "24/05/13 22:24:38 WARN DAGScheduler: Broadcasting large task binary with size 4.9 MiB\n",
      "24/05/13 22:24:39 WARN DAGScheduler: Broadcasting large task binary with size 4.9 MiB\n"
     ]
    },
    {
     "name": "stderr",
     "output_type": "stream",
     "text": [
      "                                                                                \r"
     ]
    },
    {
     "name": "stdout",
     "output_type": "stream",
     "text": [
      "24/05/13 22:24:39 WARN DAGScheduler: Broadcasting large task binary with size 4.9 MiB\n",
      "24/05/13 22:24:40 WARN DAGScheduler: Broadcasting large task binary with size 4.9 MiB\n",
      "24/05/13 22:24:40 WARN DAGScheduler: Broadcasting large task binary with size 4.9 MiB\n",
      "24/05/13 22:24:40 WARN DAGScheduler: Broadcasting large task binary with size 4.9 MiB\n",
      "24/05/13 22:24:41 WARN DAGScheduler: Broadcasting large task binary with size 4.9 MiB\n",
      "24/05/13 22:24:42 WARN DAGScheduler: Broadcasting large task binary with size 4.9 MiB\n",
      "24/05/13 22:24:42 WARN DAGScheduler: Broadcasting large task binary with size 4.9 MiB\n",
      "24/05/13 22:24:43 WARN DAGScheduler: Broadcasting large task binary with size 4.9 MiB\n",
      "24/05/13 22:24:43 WARN DAGScheduler: Broadcasting large task binary with size 4.9 MiB\n"
     ]
    },
    {
     "name": "stderr",
     "output_type": "stream",
     "text": [
      "                                                                                \r"
     ]
    },
    {
     "name": "stdout",
     "output_type": "stream",
     "text": [
      "24/05/13 22:24:44 WARN DAGScheduler: Broadcasting large task binary with size 4.9 MiB\n"
     ]
    },
    {
     "name": "stderr",
     "output_type": "stream",
     "text": [
      "                                                                                \r"
     ]
    },
    {
     "name": "stdout",
     "output_type": "stream",
     "text": [
      "24/05/13 22:24:45 WARN DAGScheduler: Broadcasting large task binary with size 4.9 MiB\n"
     ]
    },
    {
     "name": "stderr",
     "output_type": "stream",
     "text": [
      "                                                                                \r"
     ]
    },
    {
     "name": "stdout",
     "output_type": "stream",
     "text": [
      "24/05/13 22:24:46 WARN DAGScheduler: Broadcasting large task binary with size 4.9 MiB\n"
     ]
    },
    {
     "name": "stderr",
     "output_type": "stream",
     "text": [
      "                                                                                \r"
     ]
    },
    {
     "name": "stdout",
     "output_type": "stream",
     "text": [
      "24/05/13 22:24:47 WARN DAGScheduler: Broadcasting large task binary with size 4.9 MiB\n",
      "24/05/13 22:24:47 WARN DAGScheduler: Broadcasting large task binary with size 4.9 MiB\n"
     ]
    },
    {
     "name": "stderr",
     "output_type": "stream",
     "text": [
      "                                                                                \r"
     ]
    },
    {
     "name": "stdout",
     "output_type": "stream",
     "text": [
      "24/05/13 22:24:48 WARN DAGScheduler: Broadcasting large task binary with size 4.9 MiB\n"
     ]
    },
    {
     "name": "stderr",
     "output_type": "stream",
     "text": [
      "                                                                                \r"
     ]
    },
    {
     "name": "stdout",
     "output_type": "stream",
     "text": [
      "24/05/13 22:24:49 WARN DAGScheduler: Broadcasting large task binary with size 4.9 MiB\n",
      "24/05/13 22:24:49 WARN DAGScheduler: Broadcasting large task binary with size 4.9 MiB\n",
      "24/05/13 22:24:50 WARN DAGScheduler: Broadcasting large task binary with size 4.9 MiB\n",
      "24/05/13 22:24:51 WARN DAGScheduler: Broadcasting large task binary with size 4.9 MiB\n",
      "24/05/13 22:24:51 WARN DAGScheduler: Broadcasting large task binary with size 4.9 MiB\n",
      "24/05/13 22:24:52 WARN DAGScheduler: Broadcasting large task binary with size 4.9 MiB\n",
      "24/05/13 22:24:52 WARN DAGScheduler: Broadcasting large task binary with size 4.9 MiB\n"
     ]
    },
    {
     "name": "stderr",
     "output_type": "stream",
     "text": [
      "                                                                                \r"
     ]
    },
    {
     "name": "stdout",
     "output_type": "stream",
     "text": [
      "24/05/13 22:24:53 WARN DAGScheduler: Broadcasting large task binary with size 4.9 MiB\n",
      "24/05/13 22:24:53 WARN DAGScheduler: Broadcasting large task binary with size 4.9 MiB\n"
     ]
    },
    {
     "name": "stderr",
     "output_type": "stream",
     "text": [
      "                                                                                \r"
     ]
    },
    {
     "name": "stdout",
     "output_type": "stream",
     "text": [
      "24/05/13 22:24:54 WARN DAGScheduler: Broadcasting large task binary with size 4.9 MiB\n",
      "24/05/13 22:24:55 WARN DAGScheduler: Broadcasting large task binary with size 4.9 MiB\n",
      "24/05/13 22:24:55 WARN DAGScheduler: Broadcasting large task binary with size 4.9 MiB\n"
     ]
    },
    {
     "name": "stderr",
     "output_type": "stream",
     "text": [
      "                                                                                \r"
     ]
    },
    {
     "name": "stdout",
     "output_type": "stream",
     "text": [
      "24/05/13 22:24:56 WARN DAGScheduler: Broadcasting large task binary with size 4.9 MiB\n"
     ]
    },
    {
     "name": "stderr",
     "output_type": "stream",
     "text": [
      "                                                                                \r"
     ]
    },
    {
     "name": "stdout",
     "output_type": "stream",
     "text": [
      "24/05/13 22:24:57 WARN DAGScheduler: Broadcasting large task binary with size 4.9 MiB\n"
     ]
    },
    {
     "name": "stderr",
     "output_type": "stream",
     "text": [
      "                                                                                \r"
     ]
    },
    {
     "name": "stdout",
     "output_type": "stream",
     "text": [
      "24/05/13 22:24:57 WARN DAGScheduler: Broadcasting large task binary with size 4.9 MiB\n",
      "24/05/13 22:24:58 WARN DAGScheduler: Broadcasting large task binary with size 4.9 MiB\n"
     ]
    },
    {
     "name": "stderr",
     "output_type": "stream",
     "text": [
      "                                                                                \r"
     ]
    },
    {
     "name": "stdout",
     "output_type": "stream",
     "text": [
      "24/05/13 22:24:59 WARN DAGScheduler: Broadcasting large task binary with size 4.9 MiB\n"
     ]
    },
    {
     "name": "stderr",
     "output_type": "stream",
     "text": [
      "                                                                                \r"
     ]
    },
    {
     "name": "stdout",
     "output_type": "stream",
     "text": [
      "24/05/13 22:24:59 WARN DAGScheduler: Broadcasting large task binary with size 4.9 MiB\n",
      "24/05/13 22:25:00 WARN DAGScheduler: Broadcasting large task binary with size 4.9 MiB\n"
     ]
    },
    {
     "name": "stderr",
     "output_type": "stream",
     "text": [
      "                                                                                \r"
     ]
    },
    {
     "name": "stdout",
     "output_type": "stream",
     "text": [
      "24/05/13 22:25:01 WARN DAGScheduler: Broadcasting large task binary with size 4.9 MiB\n",
      "24/05/13 22:25:01 WARN DAGScheduler: Broadcasting large task binary with size 4.9 MiB\n",
      "24/05/13 22:25:02 WARN DAGScheduler: Broadcasting large task binary with size 4.9 MiB\n"
     ]
    },
    {
     "name": "stderr",
     "output_type": "stream",
     "text": [
      "                                                                                \r"
     ]
    },
    {
     "name": "stdout",
     "output_type": "stream",
     "text": [
      "24/05/13 22:25:02 WARN DAGScheduler: Broadcasting large task binary with size 4.9 MiB\n"
     ]
    },
    {
     "name": "stderr",
     "output_type": "stream",
     "text": [
      "                                                                                \r"
     ]
    },
    {
     "name": "stdout",
     "output_type": "stream",
     "text": [
      "24/05/13 22:25:03 WARN DAGScheduler: Broadcasting large task binary with size 4.9 MiB\n"
     ]
    },
    {
     "name": "stderr",
     "output_type": "stream",
     "text": [
      "                                                                                \r"
     ]
    },
    {
     "name": "stdout",
     "output_type": "stream",
     "text": [
      "24/05/13 22:25:04 WARN DAGScheduler: Broadcasting large task binary with size 4.9 MiB\n",
      "24/05/13 22:25:04 WARN DAGScheduler: Broadcasting large task binary with size 4.9 MiB\n",
      "24/05/13 22:25:05 WARN DAGScheduler: Broadcasting large task binary with size 4.9 MiB\n",
      "24/05/13 22:25:05 WARN DAGScheduler: Broadcasting large task binary with size 4.9 MiB\n",
      "24/05/13 22:25:06 WARN DAGScheduler: Broadcasting large task binary with size 4.9 MiB\n",
      "24/05/13 22:25:06 WARN DAGScheduler: Broadcasting large task binary with size 4.9 MiB\n",
      "24/05/13 22:25:07 WARN DAGScheduler: Broadcasting large task binary with size 4.9 MiB\n",
      "24/05/13 22:25:07 WARN DAGScheduler: Broadcasting large task binary with size 4.9 MiB\n",
      "24/05/13 22:25:08 WARN DAGScheduler: Broadcasting large task binary with size 4.9 MiB\n",
      "24/05/13 22:25:08 WARN DAGScheduler: Broadcasting large task binary with size 4.9 MiB\n",
      "24/05/13 22:25:09 WARN DAGScheduler: Broadcasting large task binary with size 4.9 MiB\n"
     ]
    },
    {
     "name": "stderr",
     "output_type": "stream",
     "text": [
      "                                                                                \r"
     ]
    },
    {
     "name": "stdout",
     "output_type": "stream",
     "text": [
      "24/05/13 22:25:10 WARN DAGScheduler: Broadcasting large task binary with size 4.9 MiB\n",
      "24/05/13 22:25:10 WARN DAGScheduler: Broadcasting large task binary with size 4.9 MiB\n",
      "24/05/13 22:25:11 WARN DAGScheduler: Broadcasting large task binary with size 4.9 MiB\n"
     ]
    },
    {
     "name": "stderr",
     "output_type": "stream",
     "text": [
      "                                                                                \r"
     ]
    },
    {
     "name": "stdout",
     "output_type": "stream",
     "text": [
      "24/05/13 22:25:11 WARN DAGScheduler: Broadcasting large task binary with size 4.9 MiB\n"
     ]
    },
    {
     "name": "stderr",
     "output_type": "stream",
     "text": [
      "                                                                                \r"
     ]
    },
    {
     "name": "stdout",
     "output_type": "stream",
     "text": [
      "24/05/13 22:25:12 WARN DAGScheduler: Broadcasting large task binary with size 4.9 MiB\n",
      "24/05/13 22:25:13 WARN DAGScheduler: Broadcasting large task binary with size 4.9 MiB\n"
     ]
    },
    {
     "name": "stderr",
     "output_type": "stream",
     "text": [
      "                                                                                \r"
     ]
    },
    {
     "name": "stdout",
     "output_type": "stream",
     "text": [
      "24/05/13 22:25:14 WARN DAGScheduler: Broadcasting large task binary with size 4.9 MiB\n",
      "24/05/13 22:25:14 WARN DAGScheduler: Broadcasting large task binary with size 4.9 MiB\n",
      "24/05/13 22:25:15 WARN DAGScheduler: Broadcasting large task binary with size 4.9 MiB\n"
     ]
    },
    {
     "name": "stderr",
     "output_type": "stream",
     "text": [
      "                                                                                \r"
     ]
    },
    {
     "name": "stdout",
     "output_type": "stream",
     "text": [
      "24/05/13 22:25:15 WARN DAGScheduler: Broadcasting large task binary with size 4.9 MiB\n"
     ]
    },
    {
     "name": "stderr",
     "output_type": "stream",
     "text": [
      "                                                                                \r"
     ]
    },
    {
     "name": "stdout",
     "output_type": "stream",
     "text": [
      "24/05/13 22:25:16 WARN DAGScheduler: Broadcasting large task binary with size 4.9 MiB\n",
      "24/05/13 22:25:16 WARN DAGScheduler: Broadcasting large task binary with size 4.9 MiB\n",
      "24/05/13 22:25:17 WARN DAGScheduler: Broadcasting large task binary with size 4.9 MiB\n",
      "24/05/13 22:25:17 WARN DAGScheduler: Broadcasting large task binary with size 4.9 MiB\n",
      "24/05/13 22:25:18 WARN DAGScheduler: Broadcasting large task binary with size 4.9 MiB\n",
      "24/05/13 22:25:18 WARN DAGScheduler: Broadcasting large task binary with size 4.9 MiB\n",
      "24/05/13 22:25:19 WARN DAGScheduler: Broadcasting large task binary with size 4.9 MiB\n",
      "24/05/13 22:25:19 WARN DAGScheduler: Broadcasting large task binary with size 4.9 MiB\n"
     ]
    },
    {
     "name": "stderr",
     "output_type": "stream",
     "text": [
      "                                                                                \r"
     ]
    },
    {
     "name": "stdout",
     "output_type": "stream",
     "text": [
      "24/05/13 22:25:20 WARN DAGScheduler: Broadcasting large task binary with size 4.9 MiB\n",
      "24/05/13 22:25:21 WARN DAGScheduler: Broadcasting large task binary with size 4.9 MiB\n",
      "24/05/13 22:25:21 WARN DAGScheduler: Broadcasting large task binary with size 4.9 MiB\n",
      "24/05/13 22:25:23 WARN DAGScheduler: Broadcasting large task binary with size 4.7 MiB\n"
     ]
    },
    {
     "name": "stderr",
     "output_type": "stream",
     "text": [
      "                                                                                \r"
     ]
    },
    {
     "name": "stdout",
     "output_type": "stream",
     "text": [
      "24/05/13 22:25:26 WARN DAGScheduler: Broadcasting large task binary with size 4.7 MiB\n"
     ]
    },
    {
     "name": "stderr",
     "output_type": "stream",
     "text": [
      "                                                                                \r"
     ]
    },
    {
     "name": "stdout",
     "output_type": "stream",
     "text": [
      "24/05/13 22:25:29 WARN DAGScheduler: Broadcasting large task binary with size 4.7 MiB\n"
     ]
    },
    {
     "name": "stderr",
     "output_type": "stream",
     "text": [
      "                                                                                \r"
     ]
    }
   ],
   "source": [
    "evaluator = MulticlassClassificationEvaluator(predictionCol=\"prediction\")\n",
    "st2 = datetime.utcnow()\n",
    "pipeline_trigram = build_trigrams().fit(train_set)\n",
    "predictions_trigram = pipeline_trigram.transform(test_set)\n",
    "accuracy_trigram = evaluator.evaluate(predictions_trigram, {evaluator.metricName: \"accuracy\"})\n",
    "precision_trigram = evaluator.evaluate(predictions_trigram, {evaluator.metricName: \"weightedPrecision\"})\n",
    "recall_trigram = evaluator.evaluate(predictions_trigram, {evaluator.metricName: \"weightedRecall\"})"
   ]
  },
  {
   "cell_type": "code",
   "execution_count": 16,
   "id": "05ba66c2-fed0-4625-917d-9e34f8bc19fb",
   "metadata": {},
   "outputs": [
    {
     "name": "stdout",
     "output_type": "stream",
     "text": [
      "\n",
      " ********************************************** \n",
      "\n",
      "Accuracy: 0.7680158621632709\n",
      "Precision: 0.7692827784464127\n",
      "Recall: 0.7680158621632709\n",
      "Training time: 0:02:07.192527\n",
      "\n",
      " ********************************************** \n",
      "\n"
     ]
    }
   ],
   "source": [
    "# Print the results\n",
    "print(\"\\n ********************************************** \\n\")\n",
    "print(\"Accuracy:\", accuracy_trigram)\n",
    "print(\"Precision:\", precision_trigram)\n",
    "print(\"Recall:\", recall_trigram)\n",
    "print('Training time:', datetime.utcnow() - st2)\n",
    "print(\"\\n ********************************************** \\n\")"
   ]
  },
  {
   "cell_type": "markdown",
   "id": "e5e96017-41af-4167-b22f-3d371e7bccd3",
   "metadata": {},
   "source": [
    "# HashingTF - IDF (paramètres par défaut)"
   ]
  },
  {
   "cell_type": "code",
   "execution_count": 28,
   "id": "7cce6967-0bc5-4ce9-8c95-fd660b170e42",
   "metadata": {
    "scrolled": true
   },
   "outputs": [
    {
     "name": "stderr",
     "output_type": "stream",
     "text": [
      "                                                                                \r"
     ]
    },
    {
     "name": "stdout",
     "output_type": "stream",
     "text": [
      "24/05/13 22:31:44 WARN DAGScheduler: Broadcasting large task binary with size 4.1 MiB\n"
     ]
    },
    {
     "name": "stderr",
     "output_type": "stream",
     "text": [
      "                                                                                \r"
     ]
    },
    {
     "name": "stdout",
     "output_type": "stream",
     "text": [
      "24/05/13 22:31:46 WARN DAGScheduler: Broadcasting large task binary with size 4.1 MiB\n"
     ]
    },
    {
     "name": "stderr",
     "output_type": "stream",
     "text": [
      "                                                                                \r"
     ]
    },
    {
     "name": "stdout",
     "output_type": "stream",
     "text": [
      "24/05/13 22:31:48 WARN DAGScheduler: Broadcasting large task binary with size 4.1 MiB\n"
     ]
    },
    {
     "name": "stderr",
     "output_type": "stream",
     "text": [
      "                                                                                \r"
     ]
    },
    {
     "name": "stdout",
     "output_type": "stream",
     "text": [
      "24/05/13 22:31:49 WARN DAGScheduler: Broadcasting large task binary with size 4.1 MiB\n"
     ]
    },
    {
     "name": "stderr",
     "output_type": "stream",
     "text": [
      "                                                                                \r"
     ]
    },
    {
     "name": "stdout",
     "output_type": "stream",
     "text": [
      "24/05/13 22:31:50 WARN DAGScheduler: Broadcasting large task binary with size 4.1 MiB\n"
     ]
    },
    {
     "name": "stderr",
     "output_type": "stream",
     "text": [
      "                                                                                \r"
     ]
    },
    {
     "name": "stdout",
     "output_type": "stream",
     "text": [
      "24/05/13 22:31:51 WARN DAGScheduler: Broadcasting large task binary with size 4.1 MiB\n"
     ]
    },
    {
     "name": "stderr",
     "output_type": "stream",
     "text": [
      "                                                                                \r"
     ]
    },
    {
     "name": "stdout",
     "output_type": "stream",
     "text": [
      "24/05/13 22:31:52 WARN DAGScheduler: Broadcasting large task binary with size 4.1 MiB\n"
     ]
    },
    {
     "name": "stderr",
     "output_type": "stream",
     "text": [
      "                                                                                \r"
     ]
    },
    {
     "name": "stdout",
     "output_type": "stream",
     "text": [
      "24/05/13 22:31:53 WARN DAGScheduler: Broadcasting large task binary with size 4.1 MiB\n"
     ]
    },
    {
     "name": "stderr",
     "output_type": "stream",
     "text": [
      "                                                                                \r"
     ]
    },
    {
     "name": "stdout",
     "output_type": "stream",
     "text": [
      "24/05/13 22:31:54 WARN DAGScheduler: Broadcasting large task binary with size 4.1 MiB\n",
      "24/05/13 22:31:55 WARN DAGScheduler: Broadcasting large task binary with size 4.1 MiB\n"
     ]
    },
    {
     "name": "stderr",
     "output_type": "stream",
     "text": [
      "                                                                                \r"
     ]
    },
    {
     "name": "stdout",
     "output_type": "stream",
     "text": [
      "24/05/13 22:31:56 WARN DAGScheduler: Broadcasting large task binary with size 4.1 MiB\n"
     ]
    },
    {
     "name": "stderr",
     "output_type": "stream",
     "text": [
      "                                                                                \r"
     ]
    },
    {
     "name": "stdout",
     "output_type": "stream",
     "text": [
      "24/05/13 22:31:57 WARN DAGScheduler: Broadcasting large task binary with size 4.1 MiB\n"
     ]
    },
    {
     "name": "stderr",
     "output_type": "stream",
     "text": [
      "                                                                                \r"
     ]
    },
    {
     "name": "stdout",
     "output_type": "stream",
     "text": [
      "24/05/13 22:31:58 WARN DAGScheduler: Broadcasting large task binary with size 4.1 MiB\n"
     ]
    },
    {
     "name": "stderr",
     "output_type": "stream",
     "text": [
      "                                                                                \r"
     ]
    },
    {
     "name": "stdout",
     "output_type": "stream",
     "text": [
      "24/05/13 22:31:59 WARN DAGScheduler: Broadcasting large task binary with size 4.1 MiB\n"
     ]
    },
    {
     "name": "stderr",
     "output_type": "stream",
     "text": [
      "                                                                                \r"
     ]
    },
    {
     "name": "stdout",
     "output_type": "stream",
     "text": [
      "24/05/13 22:32:00 WARN DAGScheduler: Broadcasting large task binary with size 4.1 MiB\n"
     ]
    },
    {
     "name": "stderr",
     "output_type": "stream",
     "text": [
      "                                                                                \r"
     ]
    },
    {
     "name": "stdout",
     "output_type": "stream",
     "text": [
      "24/05/13 22:32:01 WARN DAGScheduler: Broadcasting large task binary with size 4.1 MiB\n"
     ]
    },
    {
     "name": "stderr",
     "output_type": "stream",
     "text": [
      "                                                                                \r"
     ]
    },
    {
     "name": "stdout",
     "output_type": "stream",
     "text": [
      "24/05/13 22:32:02 WARN DAGScheduler: Broadcasting large task binary with size 4.1 MiB\n"
     ]
    },
    {
     "name": "stderr",
     "output_type": "stream",
     "text": [
      "                                                                                \r"
     ]
    },
    {
     "name": "stdout",
     "output_type": "stream",
     "text": [
      "24/05/13 22:32:03 WARN DAGScheduler: Broadcasting large task binary with size 4.1 MiB\n"
     ]
    },
    {
     "name": "stderr",
     "output_type": "stream",
     "text": [
      "                                                                                \r"
     ]
    },
    {
     "name": "stdout",
     "output_type": "stream",
     "text": [
      "24/05/13 22:32:04 WARN DAGScheduler: Broadcasting large task binary with size 4.1 MiB\n"
     ]
    },
    {
     "name": "stderr",
     "output_type": "stream",
     "text": [
      "                                                                                \r"
     ]
    },
    {
     "name": "stdout",
     "output_type": "stream",
     "text": [
      "24/05/13 22:32:05 WARN DAGScheduler: Broadcasting large task binary with size 4.1 MiB\n"
     ]
    },
    {
     "name": "stderr",
     "output_type": "stream",
     "text": [
      "                                                                                \r"
     ]
    },
    {
     "name": "stdout",
     "output_type": "stream",
     "text": [
      "24/05/13 22:32:05 WARN DAGScheduler: Broadcasting large task binary with size 4.1 MiB\n"
     ]
    },
    {
     "name": "stderr",
     "output_type": "stream",
     "text": [
      "                                                                                \r"
     ]
    },
    {
     "name": "stdout",
     "output_type": "stream",
     "text": [
      "24/05/13 22:32:06 WARN DAGScheduler: Broadcasting large task binary with size 4.1 MiB\n"
     ]
    },
    {
     "name": "stderr",
     "output_type": "stream",
     "text": [
      "                                                                                \r"
     ]
    },
    {
     "name": "stdout",
     "output_type": "stream",
     "text": [
      "24/05/13 22:32:07 WARN DAGScheduler: Broadcasting large task binary with size 4.1 MiB\n"
     ]
    },
    {
     "name": "stderr",
     "output_type": "stream",
     "text": [
      "                                                                                \r"
     ]
    },
    {
     "name": "stdout",
     "output_type": "stream",
     "text": [
      "24/05/13 22:32:08 WARN DAGScheduler: Broadcasting large task binary with size 4.1 MiB\n"
     ]
    },
    {
     "name": "stderr",
     "output_type": "stream",
     "text": [
      "                                                                                \r"
     ]
    },
    {
     "name": "stdout",
     "output_type": "stream",
     "text": [
      "24/05/13 22:32:09 WARN DAGScheduler: Broadcasting large task binary with size 4.1 MiB\n"
     ]
    },
    {
     "name": "stderr",
     "output_type": "stream",
     "text": [
      "                                                                                \r"
     ]
    },
    {
     "name": "stdout",
     "output_type": "stream",
     "text": [
      "24/05/13 22:32:10 WARN DAGScheduler: Broadcasting large task binary with size 4.1 MiB\n"
     ]
    },
    {
     "name": "stderr",
     "output_type": "stream",
     "text": [
      "                                                                                \r"
     ]
    },
    {
     "name": "stdout",
     "output_type": "stream",
     "text": [
      "24/05/13 22:32:11 WARN DAGScheduler: Broadcasting large task binary with size 4.1 MiB\n"
     ]
    },
    {
     "name": "stderr",
     "output_type": "stream",
     "text": [
      "                                                                                \r"
     ]
    },
    {
     "name": "stdout",
     "output_type": "stream",
     "text": [
      "24/05/13 22:32:12 WARN DAGScheduler: Broadcasting large task binary with size 4.1 MiB\n"
     ]
    },
    {
     "name": "stderr",
     "output_type": "stream",
     "text": [
      "                                                                                \r"
     ]
    },
    {
     "name": "stdout",
     "output_type": "stream",
     "text": [
      "24/05/13 22:32:13 WARN DAGScheduler: Broadcasting large task binary with size 4.1 MiB\n"
     ]
    },
    {
     "name": "stderr",
     "output_type": "stream",
     "text": [
      "                                                                                \r"
     ]
    },
    {
     "name": "stdout",
     "output_type": "stream",
     "text": [
      "24/05/13 22:32:13 WARN DAGScheduler: Broadcasting large task binary with size 4.1 MiB\n",
      "24/05/13 22:32:14 WARN DAGScheduler: Broadcasting large task binary with size 4.1 MiB\n"
     ]
    },
    {
     "name": "stderr",
     "output_type": "stream",
     "text": [
      "                                                                                \r"
     ]
    },
    {
     "name": "stdout",
     "output_type": "stream",
     "text": [
      "24/05/13 22:32:15 WARN DAGScheduler: Broadcasting large task binary with size 4.1 MiB\n"
     ]
    },
    {
     "name": "stderr",
     "output_type": "stream",
     "text": [
      "                                                                                \r"
     ]
    },
    {
     "name": "stdout",
     "output_type": "stream",
     "text": [
      "24/05/13 22:32:16 WARN DAGScheduler: Broadcasting large task binary with size 4.1 MiB\n"
     ]
    },
    {
     "name": "stderr",
     "output_type": "stream",
     "text": [
      "                                                                                \r"
     ]
    },
    {
     "name": "stdout",
     "output_type": "stream",
     "text": [
      "24/05/13 22:32:18 WARN DAGScheduler: Broadcasting large task binary with size 4.1 MiB\n"
     ]
    },
    {
     "name": "stderr",
     "output_type": "stream",
     "text": [
      "                                                                                \r"
     ]
    },
    {
     "name": "stdout",
     "output_type": "stream",
     "text": [
      "24/05/13 22:32:19 WARN DAGScheduler: Broadcasting large task binary with size 4.1 MiB\n"
     ]
    },
    {
     "name": "stderr",
     "output_type": "stream",
     "text": [
      "                                                                                \r"
     ]
    },
    {
     "name": "stdout",
     "output_type": "stream",
     "text": [
      "24/05/13 22:32:20 WARN DAGScheduler: Broadcasting large task binary with size 4.1 MiB\n"
     ]
    },
    {
     "name": "stderr",
     "output_type": "stream",
     "text": [
      "                                                                                \r"
     ]
    },
    {
     "name": "stdout",
     "output_type": "stream",
     "text": [
      "24/05/13 22:32:21 WARN DAGScheduler: Broadcasting large task binary with size 4.1 MiB\n"
     ]
    },
    {
     "name": "stderr",
     "output_type": "stream",
     "text": [
      "                                                                                \r"
     ]
    },
    {
     "name": "stdout",
     "output_type": "stream",
     "text": [
      "24/05/13 22:32:22 WARN DAGScheduler: Broadcasting large task binary with size 4.1 MiB\n"
     ]
    },
    {
     "name": "stderr",
     "output_type": "stream",
     "text": [
      "                                                                                \r"
     ]
    },
    {
     "name": "stdout",
     "output_type": "stream",
     "text": [
      "24/05/13 22:32:23 WARN DAGScheduler: Broadcasting large task binary with size 4.1 MiB\n"
     ]
    },
    {
     "name": "stderr",
     "output_type": "stream",
     "text": [
      "                                                                                \r"
     ]
    },
    {
     "name": "stdout",
     "output_type": "stream",
     "text": [
      "24/05/13 22:32:25 WARN DAGScheduler: Broadcasting large task binary with size 4.1 MiB\n"
     ]
    },
    {
     "name": "stderr",
     "output_type": "stream",
     "text": [
      "                                                                                \r"
     ]
    },
    {
     "name": "stdout",
     "output_type": "stream",
     "text": [
      "24/05/13 22:32:26 WARN DAGScheduler: Broadcasting large task binary with size 4.1 MiB\n"
     ]
    },
    {
     "name": "stderr",
     "output_type": "stream",
     "text": [
      "                                                                                \r"
     ]
    },
    {
     "name": "stdout",
     "output_type": "stream",
     "text": [
      "24/05/13 22:32:28 WARN DAGScheduler: Broadcasting large task binary with size 4.1 MiB\n"
     ]
    },
    {
     "name": "stderr",
     "output_type": "stream",
     "text": [
      "                                                                                \r"
     ]
    },
    {
     "name": "stdout",
     "output_type": "stream",
     "text": [
      "24/05/13 22:32:29 WARN DAGScheduler: Broadcasting large task binary with size 4.1 MiB\n"
     ]
    },
    {
     "name": "stderr",
     "output_type": "stream",
     "text": [
      "                                                                                \r"
     ]
    },
    {
     "name": "stdout",
     "output_type": "stream",
     "text": [
      "24/05/13 22:32:30 WARN DAGScheduler: Broadcasting large task binary with size 4.1 MiB\n"
     ]
    },
    {
     "name": "stderr",
     "output_type": "stream",
     "text": [
      "                                                                                \r"
     ]
    },
    {
     "name": "stdout",
     "output_type": "stream",
     "text": [
      "24/05/13 22:32:31 WARN DAGScheduler: Broadcasting large task binary with size 4.1 MiB\n"
     ]
    },
    {
     "name": "stderr",
     "output_type": "stream",
     "text": [
      "                                                                                \r"
     ]
    },
    {
     "name": "stdout",
     "output_type": "stream",
     "text": [
      "24/05/13 22:32:32 WARN DAGScheduler: Broadcasting large task binary with size 4.1 MiB\n"
     ]
    },
    {
     "name": "stderr",
     "output_type": "stream",
     "text": [
      "                                                                                \r"
     ]
    },
    {
     "name": "stdout",
     "output_type": "stream",
     "text": [
      "24/05/13 22:32:34 WARN DAGScheduler: Broadcasting large task binary with size 4.1 MiB\n"
     ]
    },
    {
     "name": "stderr",
     "output_type": "stream",
     "text": [
      "                                                                                \r"
     ]
    },
    {
     "name": "stdout",
     "output_type": "stream",
     "text": [
      "24/05/13 22:32:34 WARN DAGScheduler: Broadcasting large task binary with size 4.1 MiB\n"
     ]
    },
    {
     "name": "stderr",
     "output_type": "stream",
     "text": [
      "                                                                                \r"
     ]
    },
    {
     "name": "stdout",
     "output_type": "stream",
     "text": [
      "24/05/13 22:32:36 WARN DAGScheduler: Broadcasting large task binary with size 4.1 MiB\n"
     ]
    },
    {
     "name": "stderr",
     "output_type": "stream",
     "text": [
      "                                                                                \r"
     ]
    },
    {
     "name": "stdout",
     "output_type": "stream",
     "text": [
      "24/05/13 22:32:37 WARN DAGScheduler: Broadcasting large task binary with size 4.1 MiB\n"
     ]
    },
    {
     "name": "stderr",
     "output_type": "stream",
     "text": [
      "                                                                                \r"
     ]
    },
    {
     "name": "stdout",
     "output_type": "stream",
     "text": [
      "24/05/13 22:32:38 WARN DAGScheduler: Broadcasting large task binary with size 4.1 MiB\n"
     ]
    },
    {
     "name": "stderr",
     "output_type": "stream",
     "text": [
      "                                                                                \r"
     ]
    },
    {
     "name": "stdout",
     "output_type": "stream",
     "text": [
      "24/05/13 22:32:39 WARN DAGScheduler: Broadcasting large task binary with size 4.1 MiB\n"
     ]
    },
    {
     "name": "stderr",
     "output_type": "stream",
     "text": [
      "                                                                                \r"
     ]
    },
    {
     "name": "stdout",
     "output_type": "stream",
     "text": [
      "24/05/13 22:32:40 WARN DAGScheduler: Broadcasting large task binary with size 4.1 MiB\n"
     ]
    },
    {
     "name": "stderr",
     "output_type": "stream",
     "text": [
      "                                                                                \r"
     ]
    },
    {
     "name": "stdout",
     "output_type": "stream",
     "text": [
      "24/05/13 22:32:41 WARN DAGScheduler: Broadcasting large task binary with size 4.1 MiB\n",
      "24/05/13 22:32:42 WARN DAGScheduler: Broadcasting large task binary with size 4.1 MiB\n",
      "24/05/13 22:32:43 WARN DAGScheduler: Broadcasting large task binary with size 4.1 MiB\n",
      "24/05/13 22:32:44 WARN DAGScheduler: Broadcasting large task binary with size 4.1 MiB\n"
     ]
    },
    {
     "name": "stderr",
     "output_type": "stream",
     "text": [
      "                                                                                \r"
     ]
    },
    {
     "name": "stdout",
     "output_type": "stream",
     "text": [
      "24/05/13 22:32:45 WARN BlockManager: Asked to remove block broadcast_1128, which does not exist\n",
      "24/05/13 22:32:45 WARN DAGScheduler: Broadcasting large task binary with size 4.1 MiB\n"
     ]
    },
    {
     "name": "stderr",
     "output_type": "stream",
     "text": [
      "                                                                                \r"
     ]
    },
    {
     "name": "stdout",
     "output_type": "stream",
     "text": [
      "24/05/13 22:32:46 WARN DAGScheduler: Broadcasting large task binary with size 4.1 MiB\n"
     ]
    },
    {
     "name": "stderr",
     "output_type": "stream",
     "text": [
      "                                                                                \r"
     ]
    },
    {
     "name": "stdout",
     "output_type": "stream",
     "text": [
      "24/05/13 22:32:47 WARN DAGScheduler: Broadcasting large task binary with size 4.1 MiB\n",
      "24/05/13 22:32:48 WARN DAGScheduler: Broadcasting large task binary with size 4.1 MiB\n",
      "24/05/13 22:32:48 WARN DAGScheduler: Broadcasting large task binary with size 4.1 MiB\n",
      "24/05/13 22:32:49 WARN DAGScheduler: Broadcasting large task binary with size 4.1 MiB\n"
     ]
    },
    {
     "name": "stderr",
     "output_type": "stream",
     "text": [
      "                                                                                \r"
     ]
    },
    {
     "name": "stdout",
     "output_type": "stream",
     "text": [
      "24/05/13 22:32:50 WARN DAGScheduler: Broadcasting large task binary with size 4.1 MiB\n"
     ]
    },
    {
     "name": "stderr",
     "output_type": "stream",
     "text": [
      "                                                                                \r"
     ]
    },
    {
     "name": "stdout",
     "output_type": "stream",
     "text": [
      "24/05/13 22:32:51 WARN DAGScheduler: Broadcasting large task binary with size 4.1 MiB\n",
      "24/05/13 22:32:52 WARN DAGScheduler: Broadcasting large task binary with size 4.1 MiB\n"
     ]
    },
    {
     "name": "stderr",
     "output_type": "stream",
     "text": [
      "                                                                                \r"
     ]
    },
    {
     "name": "stdout",
     "output_type": "stream",
     "text": [
      "24/05/13 22:32:53 WARN DAGScheduler: Broadcasting large task binary with size 4.1 MiB\n",
      "24/05/13 22:32:54 WARN DAGScheduler: Broadcasting large task binary with size 4.1 MiB\n"
     ]
    },
    {
     "name": "stderr",
     "output_type": "stream",
     "text": [
      "                                                                                \r"
     ]
    },
    {
     "name": "stdout",
     "output_type": "stream",
     "text": [
      "24/05/13 22:32:55 WARN DAGScheduler: Broadcasting large task binary with size 4.1 MiB\n"
     ]
    },
    {
     "name": "stderr",
     "output_type": "stream",
     "text": [
      "                                                                                \r"
     ]
    },
    {
     "name": "stdout",
     "output_type": "stream",
     "text": [
      "24/05/13 22:32:56 WARN DAGScheduler: Broadcasting large task binary with size 4.1 MiB\n"
     ]
    },
    {
     "name": "stderr",
     "output_type": "stream",
     "text": [
      "                                                                                \r"
     ]
    },
    {
     "name": "stdout",
     "output_type": "stream",
     "text": [
      "24/05/13 22:32:57 WARN DAGScheduler: Broadcasting large task binary with size 4.1 MiB\n"
     ]
    },
    {
     "name": "stderr",
     "output_type": "stream",
     "text": [
      "                                                                                \r"
     ]
    },
    {
     "name": "stdout",
     "output_type": "stream",
     "text": [
      "24/05/13 22:32:58 WARN DAGScheduler: Broadcasting large task binary with size 4.1 MiB\n",
      "24/05/13 22:32:59 WARN DAGScheduler: Broadcasting large task binary with size 4.1 MiB\n"
     ]
    },
    {
     "name": "stderr",
     "output_type": "stream",
     "text": [
      "                                                                                \r"
     ]
    },
    {
     "name": "stdout",
     "output_type": "stream",
     "text": [
      "24/05/13 22:33:00 WARN DAGScheduler: Broadcasting large task binary with size 4.1 MiB\n"
     ]
    },
    {
     "name": "stderr",
     "output_type": "stream",
     "text": [
      "                                                                                \r"
     ]
    },
    {
     "name": "stdout",
     "output_type": "stream",
     "text": [
      "24/05/13 22:33:01 WARN DAGScheduler: Broadcasting large task binary with size 4.1 MiB\n"
     ]
    },
    {
     "name": "stderr",
     "output_type": "stream",
     "text": [
      "                                                                                \r"
     ]
    },
    {
     "name": "stdout",
     "output_type": "stream",
     "text": [
      "24/05/13 22:33:02 WARN DAGScheduler: Broadcasting large task binary with size 4.1 MiB\n"
     ]
    },
    {
     "name": "stderr",
     "output_type": "stream",
     "text": [
      "                                                                                \r"
     ]
    },
    {
     "name": "stdout",
     "output_type": "stream",
     "text": [
      "24/05/13 22:33:03 WARN DAGScheduler: Broadcasting large task binary with size 4.1 MiB\n"
     ]
    },
    {
     "name": "stderr",
     "output_type": "stream",
     "text": [
      "                                                                                \r"
     ]
    },
    {
     "name": "stdout",
     "output_type": "stream",
     "text": [
      "24/05/13 22:33:04 WARN DAGScheduler: Broadcasting large task binary with size 4.1 MiB\n"
     ]
    },
    {
     "name": "stderr",
     "output_type": "stream",
     "text": [
      "                                                                                \r"
     ]
    },
    {
     "name": "stdout",
     "output_type": "stream",
     "text": [
      "24/05/13 22:33:05 WARN DAGScheduler: Broadcasting large task binary with size 4.1 MiB\n"
     ]
    },
    {
     "name": "stderr",
     "output_type": "stream",
     "text": [
      "                                                                                \r"
     ]
    },
    {
     "name": "stdout",
     "output_type": "stream",
     "text": [
      "24/05/13 22:33:06 WARN DAGScheduler: Broadcasting large task binary with size 4.1 MiB\n",
      "24/05/13 22:33:07 WARN DAGScheduler: Broadcasting large task binary with size 4.1 MiB\n"
     ]
    },
    {
     "name": "stderr",
     "output_type": "stream",
     "text": [
      "                                                                                \r"
     ]
    },
    {
     "name": "stdout",
     "output_type": "stream",
     "text": [
      "24/05/13 22:33:08 WARN DAGScheduler: Broadcasting large task binary with size 4.1 MiB\n"
     ]
    },
    {
     "name": "stderr",
     "output_type": "stream",
     "text": [
      "                                                                                \r"
     ]
    },
    {
     "name": "stdout",
     "output_type": "stream",
     "text": [
      "24/05/13 22:33:09 WARN DAGScheduler: Broadcasting large task binary with size 4.1 MiB\n",
      "24/05/13 22:33:09 WARN DAGScheduler: Broadcasting large task binary with size 4.1 MiB\n"
     ]
    },
    {
     "name": "stderr",
     "output_type": "stream",
     "text": [
      "                                                                                \r"
     ]
    },
    {
     "name": "stdout",
     "output_type": "stream",
     "text": [
      "24/05/13 22:33:10 WARN DAGScheduler: Broadcasting large task binary with size 4.1 MiB\n",
      "24/05/13 22:33:11 WARN DAGScheduler: Broadcasting large task binary with size 4.1 MiB\n"
     ]
    },
    {
     "name": "stderr",
     "output_type": "stream",
     "text": [
      "                                                                                \r"
     ]
    },
    {
     "name": "stdout",
     "output_type": "stream",
     "text": [
      "24/05/13 22:33:12 WARN DAGScheduler: Broadcasting large task binary with size 4.1 MiB\n"
     ]
    },
    {
     "name": "stderr",
     "output_type": "stream",
     "text": [
      "                                                                                \r"
     ]
    },
    {
     "name": "stdout",
     "output_type": "stream",
     "text": [
      "24/05/13 22:33:13 WARN DAGScheduler: Broadcasting large task binary with size 4.1 MiB\n"
     ]
    },
    {
     "name": "stderr",
     "output_type": "stream",
     "text": [
      "                                                                                \r"
     ]
    },
    {
     "name": "stdout",
     "output_type": "stream",
     "text": [
      "24/05/13 22:33:14 WARN DAGScheduler: Broadcasting large task binary with size 4.1 MiB\n"
     ]
    },
    {
     "name": "stderr",
     "output_type": "stream",
     "text": [
      "                                                                                \r"
     ]
    },
    {
     "name": "stdout",
     "output_type": "stream",
     "text": [
      "24/05/13 22:33:15 WARN DAGScheduler: Broadcasting large task binary with size 4.1 MiB\n",
      "24/05/13 22:33:16 WARN DAGScheduler: Broadcasting large task binary with size 4.1 MiB\n",
      "24/05/13 22:33:17 WARN DAGScheduler: Broadcasting large task binary with size 4.1 MiB\n"
     ]
    },
    {
     "name": "stderr",
     "output_type": "stream",
     "text": [
      "                                                                                \r"
     ]
    },
    {
     "name": "stdout",
     "output_type": "stream",
     "text": [
      "24/05/13 22:33:18 WARN DAGScheduler: Broadcasting large task binary with size 4.1 MiB\n"
     ]
    },
    {
     "name": "stderr",
     "output_type": "stream",
     "text": [
      "                                                                                \r"
     ]
    },
    {
     "name": "stdout",
     "output_type": "stream",
     "text": [
      "24/05/13 22:33:19 WARN DAGScheduler: Broadcasting large task binary with size 4.1 MiB\n"
     ]
    },
    {
     "name": "stderr",
     "output_type": "stream",
     "text": [
      "                                                                                \r"
     ]
    },
    {
     "name": "stdout",
     "output_type": "stream",
     "text": [
      "24/05/13 22:33:19 WARN DAGScheduler: Broadcasting large task binary with size 4.1 MiB\n"
     ]
    },
    {
     "name": "stderr",
     "output_type": "stream",
     "text": [
      "                                                                                \r"
     ]
    },
    {
     "name": "stdout",
     "output_type": "stream",
     "text": [
      "24/05/13 22:33:20 WARN DAGScheduler: Broadcasting large task binary with size 4.1 MiB\n"
     ]
    },
    {
     "name": "stderr",
     "output_type": "stream",
     "text": [
      "                                                                                \r"
     ]
    },
    {
     "name": "stdout",
     "output_type": "stream",
     "text": [
      "24/05/13 22:33:21 WARN DAGScheduler: Broadcasting large task binary with size 4.1 MiB\n"
     ]
    },
    {
     "name": "stderr",
     "output_type": "stream",
     "text": [
      "                                                                                \r"
     ]
    },
    {
     "name": "stdout",
     "output_type": "stream",
     "text": [
      "24/05/13 22:33:22 WARN DAGScheduler: Broadcasting large task binary with size 4.1 MiB\n",
      "24/05/13 22:33:23 WARN DAGScheduler: Broadcasting large task binary with size 4.1 MiB\n"
     ]
    },
    {
     "name": "stderr",
     "output_type": "stream",
     "text": [
      "                                                                                \r"
     ]
    },
    {
     "name": "stdout",
     "output_type": "stream",
     "text": [
      "24/05/13 22:33:24 WARN DAGScheduler: Broadcasting large task binary with size 4.1 MiB\n"
     ]
    },
    {
     "name": "stderr",
     "output_type": "stream",
     "text": [
      "                                                                                \r"
     ]
    },
    {
     "name": "stdout",
     "output_type": "stream",
     "text": [
      "24/05/13 22:33:25 WARN DAGScheduler: Broadcasting large task binary with size 4.1 MiB\n"
     ]
    },
    {
     "name": "stderr",
     "output_type": "stream",
     "text": [
      "                                                                                \r"
     ]
    },
    {
     "name": "stdout",
     "output_type": "stream",
     "text": [
      "24/05/13 22:33:26 WARN DAGScheduler: Broadcasting large task binary with size 4.1 MiB\n",
      "24/05/13 22:33:27 WARN DAGScheduler: Broadcasting large task binary with size 4.1 MiB\n"
     ]
    },
    {
     "name": "stderr",
     "output_type": "stream",
     "text": [
      "                                                                                \r"
     ]
    },
    {
     "name": "stdout",
     "output_type": "stream",
     "text": [
      "24/05/13 22:33:28 WARN DAGScheduler: Broadcasting large task binary with size 4.1 MiB\n",
      "24/05/13 22:33:29 WARN DAGScheduler: Broadcasting large task binary with size 4.1 MiB\n",
      "24/05/13 22:33:29 WARN DAGScheduler: Broadcasting large task binary with size 4.1 MiB\n"
     ]
    },
    {
     "name": "stderr",
     "output_type": "stream",
     "text": [
      "                                                                                \r"
     ]
    },
    {
     "name": "stdout",
     "output_type": "stream",
     "text": [
      "24/05/13 22:33:30 WARN DAGScheduler: Broadcasting large task binary with size 4.1 MiB\n"
     ]
    },
    {
     "name": "stderr",
     "output_type": "stream",
     "text": [
      "                                                                                \r"
     ]
    },
    {
     "name": "stdout",
     "output_type": "stream",
     "text": [
      "24/05/13 22:33:31 WARN DAGScheduler: Broadcasting large task binary with size 4.1 MiB\n",
      "24/05/13 22:33:32 WARN DAGScheduler: Broadcasting large task binary with size 4.1 MiB\n",
      "24/05/13 22:33:33 WARN DAGScheduler: Broadcasting large task binary with size 4.1 MiB\n"
     ]
    }
   ],
   "source": [
    "from pyspark.sql.functions import split, size, col\n",
    "dataset = dataset.dropDuplicates([\"tweet\"])\n",
    "\n",
    "# Filter out tweets with less than two words\n",
    "dataset = dataset.withColumn(\"word_count\", size(split(col(\"tweet\"), \" \")))\n",
    "dataset = dataset.filter(col(\"word_count\") >= 2)\n",
    "\n",
    "# Drop the word_count column as it's not needed anymore\n",
    "dataset = dataset.drop(\"word_count\")\n",
    "tokenizer = Tokenizer(inputCol=\"tweet\", outputCol=\"words\")\n",
    "hashingTF = HashingTF(inputCol=\"words\", outputCol=\"TF\")\n",
    "idf = IDF(inputCol=\"TF\", outputCol=\"features\")\n",
    "label = StringIndexer(inputCol=\"sentiment\", outputCol=\"label\", handleInvalid=\"skip\")\n",
    "LR = LogisticRegression(featuresCol=\"features\", labelCol=\"label\", family=\"multinomial\")\n",
    "pipeline = Pipeline(stages=[tokenizer, hashingTF, idf, label, LR])\n",
    "st3 = datetime.utcnow()\n",
    "pipeline_HashingTF = pipeline.fit(train_set)\n",
    "predictions_HashingTF = pipeline_HashingTF.transform(test_set)"
   ]
  },
  {
   "cell_type": "code",
   "execution_count": 29,
   "id": "8ce8ec19-9f35-4752-a5cb-8a5460e5043a",
   "metadata": {},
   "outputs": [
    {
     "name": "stdout",
     "output_type": "stream",
     "text": [
      "24/05/13 22:34:01 WARN DAGScheduler: Broadcasting large task binary with size 6.7 MiB\n"
     ]
    },
    {
     "name": "stderr",
     "output_type": "stream",
     "text": [
      "                                                                                \r"
     ]
    },
    {
     "name": "stdout",
     "output_type": "stream",
     "text": [
      "24/05/13 22:34:05 WARN DAGScheduler: Broadcasting large task binary with size 6.7 MiB\n"
     ]
    },
    {
     "name": "stderr",
     "output_type": "stream",
     "text": [
      "                                                                                \r"
     ]
    },
    {
     "name": "stdout",
     "output_type": "stream",
     "text": [
      "24/05/13 22:34:09 WARN DAGScheduler: Broadcasting large task binary with size 6.7 MiB\n"
     ]
    },
    {
     "name": "stderr",
     "output_type": "stream",
     "text": [
      "                                                                                \r"
     ]
    },
    {
     "name": "stdout",
     "output_type": "stream",
     "text": [
      "24/05/13 22:34:14 WARN DAGScheduler: Broadcasting large task binary with size 6.7 MiB\n"
     ]
    },
    {
     "name": "stderr",
     "output_type": "stream",
     "text": [
      "                                                                                \r"
     ]
    }
   ],
   "source": [
    "accuracy_HashingTF = evaluator_accuracy.evaluate(predictions_HashingTF)\n",
    "f1_score_HashingTF = evaluator_f1.evaluate(predictions_HashingTF)\n",
    "weighted_precision_HashingTF = evaluator_weighted_precision.evaluate(predictions_HashingTF)\n",
    "weighted_recall_HashingTF = evaluator_weighted_recall.evaluate(predictions_HashingTF)"
   ]
  },
  {
   "cell_type": "code",
   "execution_count": 30,
   "id": "4cd52e9d-6491-40a6-b574-7487e8e4e5fc",
   "metadata": {},
   "outputs": [
    {
     "name": "stdout",
     "output_type": "stream",
     "text": [
      "\n",
      " ********************************************** \n",
      "\n",
      "Accuracy: 0.8301654587720497\n",
      "F1 Score: 0.8300687317761439\n",
      "Weighted Precision: 0.8303081480098422\n",
      "Weighted Recall: 0.8301654587720497\n",
      "Training time: 0:02:36.509080\n",
      "\n",
      " ********************************************** \n",
      "\n"
     ]
    }
   ],
   "source": [
    "print(\"\\n ********************************************** \\n\")\n",
    "print(\"Accuracy:\", accuracy_HashingTF)\n",
    "print(\"F1 Score:\", f1_score_HashingTF)\n",
    "print(\"Weighted Precision:\", weighted_precision_HashingTF)\n",
    "print(\"Weighted Recall:\", weighted_recall_HashingTF)\n",
    "print('Training time:', datetime.utcnow() - st3)\n",
    "print(\"\\n ********************************************** \\n\")"
   ]
  },
  {
   "cell_type": "code",
   "execution_count": 31,
   "id": "abd9e310-5950-400e-b779-1fcc864cd0e0",
   "metadata": {},
   "outputs": [
    {
     "name": "stdout",
     "output_type": "stream",
     "text": [
      "24/05/13 22:34:19 WARN DAGScheduler: Broadcasting large task binary with size 6.8 MiB\n",
      "+---+------+----------+--------------------+--------------------+--------------------+--------------------+-----+--------------------+--------------------+----------+\n",
      "| id|  game| sentiment|               tweet|               words|                  TF|            features|label|       rawPrediction|         probability|prediction|\n",
      "+---+------+----------+--------------------+--------------------+--------------------+--------------------+-----+--------------------+--------------------+----------+\n",
      "|  1|Amazon|  Negative|       @ amazon wtf.|   [@, amazon, wtf.]|(262144,[45176,64...|(262144,[45176,64...|  0.0|[10.1747483836203...|[0.99098289521517...|       0.0|\n",
      "|  2|Amazon|  Negative|I am really disap...|[i, am, really, d...|(262144,[2306,190...|(262144,[2306,190...|  0.0|[42.4426018770545...|[1.0,1.5798809282...|       0.0|\n",
      "|  2|Amazon|  Negative|I'm really disapp...|[i'm, really, dis...|(262144,[2306,190...|(262144,[2306,190...|  0.0|[50.3640588405310...|[1.0,9.4051580977...|       0.0|\n",
      "|  3|Amazon|   Neutral|Admit it subs, cr...|[admit, it, subs,...|(262144,[9620,181...|(262144,[9620,181...|  2.0|[-33.966942817437...|[5.28388472488558...|       2.0|\n",
      "|  4|Amazon|  Negative|@ amazon probably...|[@, amazon, proba...|(262144,[27576,43...|(262144,[27576,43...|  0.0|[13.3376110846732...|[0.99999975934561...|       0.0|\n",
      "|  4|Amazon|  Negative|@amazon probably ...|[@amazon, probabl...|(262144,[19208,27...|(262144,[19208,27...|  0.0|[11.2700089533691...|[0.99999847481497...|       0.0|\n",
      "|  5|Amazon|Irrelevant|you've purchased ...|[you've, purchase...|(262144,[12524,27...|(262144,[12524,27...|  3.0|[-7.3791994511393...|[1.77868003729106...|       3.0|\n",
      "|  6|Amazon|   Neutral|Love speculative ...|[love, speculativ...|(262144,[121177,1...|(262144,[121177,1...|  2.0|[-18.775925444893...|[6.68135424308999...|       2.0|\n",
      "|  8|Amazon|  Negative|Amazon be having ...|[amazon, be, havi...|(262144,[1603,777...|(262144,[1603,777...|  0.0|[5.91551768455058...|[0.97818320358043...|       0.0|\n",
      "|  8|Amazon|  Negative|Amazon be having ...|[amazon, be, havi...|(262144,[1603,777...|(262144,[1603,777...|  0.0|[2.63690488758620...|[0.55008156670545...|       0.0|\n",
      "|  8|Amazon|  Negative|Amazon getting fu...|[amazon, getting,...|(262144,[107107,1...|(262144,[107107,1...|  0.0|[-7.1721597100931...|[6.06886278019051...|       1.0|\n",
      "|  9|Amazon|  Negative|So... I'm @ amazo...|[so..., i'm, @, a...|(262144,[10723,20...|(262144,[10723,20...|  0.0|[12.5229957359378...|[0.98168324333017...|       0.0|\n",
      "|  9|Amazon|  Negative|So...I'm @amazon ...|[so...i'm, @amazo...|(262144,[24346,10...|(262144,[24346,10...|  0.0|[28.2221228095136...|[0.99999999999996...|       0.0|\n",
      "| 10|Amazon|   Neutral|@ Biohazzards Tha...|[@, biohazzards, ...|(262144,[8538,156...|(262144,[8538,156...|  2.0|[-33.479122479463...|[3.62197518946720...|       2.0|\n",
      "| 11|Amazon|   Neutral|@HistoryBlueBook ...|[@historybluebook...|(262144,[8538,190...|(262144,[8538,190...|  2.0|[9.08451609700255...|[3.6795289006588E...|       2.0|\n",
      "| 12|Amazon|  Positive|Amazon has the co...|[amazon, has, the...|(262144,[19036,22...|(262144,[19036,22...|  1.0|[-24.784641718872...|[1.52854311661788...|       1.0|\n",
      "| 13|Amazon|  Positive|better packing th...|[better, packing,...|(262144,[21823,30...|(262144,[21823,30...|  1.0|[-23.026760279870...|[1.64686714265212...|       1.0|\n",
      "| 18|Amazon|  Positive|Amazon Best Selle...|[amazon, best, se...|(262144,[15039,37...|(262144,[15039,37...|  1.0|[-21.117811442591...|[1.07316128009150...|       1.0|\n",
      "| 20|Amazon|  Positive|Our book has rise...|[our, book, has, ...|(262144,[4629,592...|(262144,[4629,592...|  1.0|[-27.421588121312...|[8.97656755361761...|       1.0|\n",
      "| 20|Amazon|  Positive|Our book went fro...|[our, book, went,...|(262144,[4629,592...|(262144,[4629,592...|  1.0|[-21.953487692558...|[8.66849143423752...|       1.0|\n",
      "+---+------+----------+--------------------+--------------------+--------------------+--------------------+-----+--------------------+--------------------+----------+\n",
      "only showing top 20 rows\n",
      "\n"
     ]
    }
   ],
   "source": [
    "predictions_HashingTF.show()"
   ]
  },
  {
   "cell_type": "code",
   "execution_count": 32,
   "id": "33902211-4d91-493c-bb0b-60ce844dbdfb",
   "metadata": {},
   "outputs": [
    {
     "name": "stderr",
     "output_type": "stream",
     "text": [
      "/opt/spark-3.3.0-bin-hadoop3/python/pyspark/sql/context.py:157: FutureWarning: Deprecated in 3.0.0. Use SparkSession.builder.getOrCreate() instead.\n",
      "  warnings.warn(\n"
     ]
    },
    {
     "name": "stdout",
     "output_type": "stream",
     "text": [
      "24/05/13 22:34:20 WARN DAGScheduler: Broadcasting large task binary with size 6.7 MiB\n"
     ]
    },
    {
     "name": "stderr",
     "output_type": "stream",
     "text": [
      "                                                                                \r"
     ]
    },
    {
     "name": "stdout",
     "output_type": "stream",
     "text": [
      "24/05/13 22:34:22 WARN DAGScheduler: Broadcasting large task binary with size 6.7 MiB\n"
     ]
    },
    {
     "name": "stderr",
     "output_type": "stream",
     "text": [
      "                                                                                \r"
     ]
    },
    {
     "data": {
      "image/png": "[encoded data removed]",
      "text/plain": [
       "<Figure size 800x600 with 2 Axes>"
      ]
     },
     "metadata": {},
     "output_type": "display_data"
    }
   ],
   "source": [
    "# Get predictions and labels as RDD\n",
    "predictionAndLabels = predictions_HashingTF.select(\"prediction\", \"label\").rdd\n",
    "\n",
    "# Create MulticlassMetrics object\n",
    "metrics = MulticlassMetrics(predictionAndLabels)\n",
    "\n",
    "# Compute confusion matrix\n",
    "conf_matrix = metrics.confusionMatrix().toArray()\n",
    "\n",
    "# Plot confusion matrix\n",
    "plt.figure(figsize=(8, 6))\n",
    "sns.heatmap(conf_matrix, annot=True, fmt='g', cmap='Blues')\n",
    "plt.xlabel('Predicted label')\n",
    "plt.ylabel('True label')\n",
    "plt.title('Confusion Matrix')\n",
    "plt.show()"
   ]
  },
  {
   "cell_type": "code",
   "execution_count": 33,
   "id": "b3006c98-c57c-4add-a9f0-6a04fbb50b45",
   "metadata": {},
   "outputs": [
    {
     "name": "stdout",
     "output_type": "stream",
     "text": [
      "24/05/13 22:34:26 WARN TaskSetManager: Stage 660 contains a task of very large size (4184 KiB). The maximum recommended task size is 1000 KiB.\n",
      "24/05/13 22:34:27 WARN TaskSetManager: Stage 668 contains a task of very large size (2791 KiB). The maximum recommended task size is 1000 KiB.\n"
     ]
    }
   ],
   "source": [
    "pipeline_HashingTF.write().overwrite().save(\"logistique_pipeline.pkl\")"
   ]
  },
  {
   "cell_type": "markdown",
   "id": "24d9bbf8-7b13-409a-a900-e0ecb3df855b",
   "metadata": {},
   "source": [
    "### Based on the strong performance of the logistic regression model across multiple evaluation metrics, including accuracy, F1 score, and weighted precision/recall, we have chosen it as our final model for sentiment analysis. The logistic regression model demonstrates consistent and reliable predictive performance, making it suitable for our task.\n",
    "\n",
    "### By selecting the logistic regression model, we aim to leverage its strengths in accurately predicting sentiment labels across different classes, ultimately improving the overall performance of our sentiment analysis system."
   ]
  }
 ],
 "metadata": {
  "kernelspec": {
   "display_name": "Python 3 (ipykernel)",
   "language": "python",
   "name": "python3"
  },
  "language_info": {
   "codemirror_mode": {
    "name": "ipython",
    "version": 3
   },
   "file_extension": ".py",
   "mimetype": "text/x-python",
   "name": "python",
   "nbconvert_exporter": "python",
   "pygments_lexer": "ipython3",
   "version": "3.10.12"
  }
 },
 "nbformat": 4,
 "nbformat_minor": 5
}
